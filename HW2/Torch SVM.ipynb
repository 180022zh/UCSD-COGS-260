{
 "cells": [
  {
   "cell_type": "code",
   "execution_count": 1,
   "metadata": {
    "collapsed": false
   },
   "outputs": [],
   "source": [
    "require 'torch'\n",
    "require 'cutorch'\n",
    "require 'nn'\n",
    "require 'nnx'\n",
    "require 'optim'\n",
    "require 'image'\n",
    "require 'dataset-mnist'\n",
    "require 'pl'\n",
    "require 'paths'"
   ]
  },
  {
   "cell_type": "code",
   "execution_count": 2,
   "metadata": {
    "collapsed": false
   },
   "outputs": [],
   "source": [
    "torch.setnumthreads(4)"
   ]
  },
  {
   "cell_type": "code",
   "execution_count": 3,
   "metadata": {
    "collapsed": false
   },
   "outputs": [
    {
     "data": {
      "text/plain": [
       "\n"
      ]
     },
     "execution_count": 3,
     "metadata": {},
     "output_type": "execute_result"
    }
   ],
   "source": [
    "classes = {'1','2','3','4','5','6','7','8','9','10'}\n",
    "geometry = {32,32}"
   ]
  },
  {
   "cell_type": "markdown",
   "metadata": {},
   "source": [
    "### Define model"
   ]
  },
  {
   "cell_type": "code",
   "execution_count": 4,
   "metadata": {
    "collapsed": false
   },
   "outputs": [],
   "source": [
    "--torch.setdefaulttensortype(\"torch.FloatTensor\")"
   ]
  },
  {
   "cell_type": "code",
   "execution_count": 5,
   "metadata": {
    "collapsed": false
   },
   "outputs": [
    {
     "data": {
      "text/plain": [
       "true\t\n"
      ]
     },
     "execution_count": 5,
     "metadata": {},
     "output_type": "execute_result"
    }
   ],
   "source": [
    "require 'cunn'"
   ]
  },
  {
   "cell_type": "code",
   "execution_count": 6,
   "metadata": {
    "collapsed": false
   },
   "outputs": [],
   "source": [
    "model = nn.Sequential()\n",
    "model:add(nn.Reshape(32*32, true))\n",
    "model:add(nn.Linear(32*32, 10))"
   ]
  },
  {
   "cell_type": "code",
   "execution_count": 7,
   "metadata": {
    "collapsed": false
   },
   "outputs": [],
   "source": [
    "parameters,gradParameters = model:getParameters()"
   ]
  },
  {
   "cell_type": "code",
   "execution_count": 8,
   "metadata": {
    "collapsed": true
   },
   "outputs": [],
   "source": [
    "criterion = nn.MultiMarginCriterion()"
   ]
  },
  {
   "cell_type": "code",
   "execution_count": 9,
   "metadata": {
    "collapsed": true
   },
   "outputs": [],
   "source": [
    "nbTrainingPatches = 60000\n",
    "nbTestingPatches = 10000"
   ]
  },
  {
   "cell_type": "code",
   "execution_count": 10,
   "metadata": {
    "collapsed": false
   },
   "outputs": [
    {
     "data": {
      "text/plain": [
       "<mnist> done\t\n"
      ]
     },
     "execution_count": 10,
     "metadata": {},
     "output_type": "execute_result"
    }
   ],
   "source": [
    "trainData = mnist.loadTrainSet(nbTrainingPatches, geometry)\n",
    "trainData:normalizeGlobal(mean, std)"
   ]
  },
  {
   "cell_type": "code",
   "execution_count": 11,
   "metadata": {
    "collapsed": false
   },
   "outputs": [
    {
     "data": {
      "text/plain": [
       "<mnist> done\t\n"
      ]
     },
     "execution_count": 11,
     "metadata": {},
     "output_type": "execute_result"
    }
   ],
   "source": [
    "testData = mnist.loadTestSet(nbTestingPatches, geometry)\n",
    "testData:normalizeGlobal(mean, std)"
   ]
  },
  {
   "cell_type": "code",
   "execution_count": 12,
   "metadata": {
    "collapsed": true
   },
   "outputs": [],
   "source": [
    "confusion = optim.ConfusionMatrix(classes)"
   ]
  },
  {
   "cell_type": "code",
   "execution_count": 13,
   "metadata": {
    "collapsed": true
   },
   "outputs": [],
   "source": [
    "trainLogger = optim.Logger(paths.concat('train.log'))\n",
    "testLogger = optim.Logger(paths.concat('test.log'))\n",
    "finalLogger = optim.Logger(paths.concat('predictions.log'))"
   ]
  },
  {
   "cell_type": "code",
   "execution_count": 14,
   "metadata": {
    "collapsed": true
   },
   "outputs": [],
   "source": [
    "batchSize = 100\n",
    "coefL1 = 0\n",
    "coefL2 = 0"
   ]
  },
  {
   "cell_type": "code",
   "execution_count": 15,
   "metadata": {
    "collapsed": true
   },
   "outputs": [],
   "source": [
    "-- training function\n",
    "function train(dataset)\n",
    "   -- epoch tracker\n",
    "   epoch = epoch or 1\n",
    "\n",
    "   -- local vars\n",
    "   local time = sys.clock()\n",
    "\n",
    "   -- do one epoch\n",
    "   print('<trainer> on training set:')\n",
    "   print(\"<trainer> online epoch # \" .. epoch .. ' [batchSize = ' .. batchSize .. ']')\n",
    "   for t = 1,dataset:size(),batchSize do\n",
    "      -- create mini batch\n",
    "      local inputs = torch.Tensor(batchSize,1,geometry[1],geometry[2])\n",
    "      local targets = torch.Tensor(batchSize)\n",
    "      local k = 1\n",
    "      for i = t,math.min(t+batchSize-1,dataset:size()) do\n",
    "         -- load new sample\n",
    "         local sample = dataset[i]\n",
    "         local input = sample[1]:clone()\n",
    "         local _,target = sample[2]:clone():max(1)\n",
    "         target = target:squeeze()\n",
    "         inputs[k] = input\n",
    "         targets[k] = target\n",
    "         k = k + 1\n",
    "      end\n",
    "\n",
    "      -- create closure to evaluate f(X) and df/dX\n",
    "      local feval = function(x)\n",
    "         -- just in case:\n",
    "         collectgarbage()\n",
    "\n",
    "         -- get new parameters\n",
    "         if x ~= parameters then\n",
    "            parameters:copy(x)\n",
    "         end\n",
    "\n",
    "         -- reset gradients\n",
    "         gradParameters:zero()\n",
    "\n",
    "         -- evaluate function for complete mini batch\n",
    "         local outputs = model:forward(inputs)\n",
    "         local f = criterion:forward(outputs, targets)\n",
    "\n",
    "         -- estimate df/dW\n",
    "         local df_do = criterion:backward(outputs, targets)\n",
    "         model:backward(inputs, df_do)\n",
    "\n",
    "         -- penalties (L1 and L2):\n",
    "         if coefL1 ~= 0 or coefL2 ~= 0 then\n",
    "            -- locals:\n",
    "            local norm,sign= torch.norm,torch.sign\n",
    "\n",
    "            -- Loss:\n",
    "            f = f + coefL1 * norm(parameters,1)\n",
    "            f = f + coefL2 * norm(parameters,2)^2/2\n",
    "\n",
    "            -- Gradients:\n",
    "            gradParameters:add( sign(parameters):mul(coefL1) + parameters:clone():mul(coefL2) )\n",
    "         end\n",
    "\n",
    "         -- update confusion\n",
    "         for i = 1,batchSize do\n",
    "            confusion:add(outputs[i], targets[i])\n",
    "         end\n",
    "\n",
    "         -- return f and df/dX\n",
    "         return f,gradParameters\n",
    "      end\n",
    "\n",
    "      -- optimize on current mini-batch\n",
    "\n",
    "\n",
    "     -- Perform SGD step:\n",
    "     sgdState = sgdState or {\n",
    "        learningRate = .03,\n",
    "        momentum = 0,\n",
    "        learningRateDecay = 5e-7\n",
    "     }\n",
    "     optim.sgd(feval, parameters, sgdState)\n",
    "\n",
    "     -- disp progress\n",
    "     xlua.progress(t, dataset:size())\n",
    "\n",
    "\n",
    "   end\n",
    "   \n",
    "   -- time taken\n",
    "   time = sys.clock() - time\n",
    "   time = time / dataset:size()\n",
    "   print(\"<trainer> time to learn 1 sample = \" .. (time*1000) .. 'ms')\n",
    "\n",
    "   -- print confusion matrix\n",
    "   print(confusion)\n",
    "   trainLogger:add{['% mean class accuracy (train set)'] = confusion.totalValid * 100}\n",
    "   confusion:zero()\n",
    "\n",
    "   -- save/log current net\n",
    "   local filename = paths.concat('mnist.net')\n",
    "   os.execute('mkdir -p ' .. sys.dirname(filename))\n",
    "   if paths.filep(filename) then\n",
    "      os.execute('mv ' .. filename .. ' ' .. filename .. '.old')\n",
    "   end\n",
    "   print('<trainer> saving network to '..filename)\n",
    "   -- torch.save(filename, model)\n",
    "\n",
    "   -- next epoch\n",
    "   epoch = epoch + 1\n",
    "end"
   ]
  },
  {
   "cell_type": "code",
   "execution_count": 1,
   "metadata": {
    "collapsed": false
   },
   "outputs": [],
   "source": [
    "finalLogger:setNames{'training error', 'test error'}\n",
    "-- test function\n",
    "function test(dataset, flag)\n",
    "   -- local vars\n",
    "   local time = sys.clock()\n",
    "\n",
    "   -- test over given dataset\n",
    "   print('<trainer> on testing Set:')\n",
    "   for t = 1,dataset:size(),batchSize do\n",
    "      -- disp progress\n",
    "      xlua.progress(t, dataset:size())\n",
    "\n",
    "      -- create mini batch\n",
    "      local inputs = torch.Tensor(batchSize,1,geometry[1],geometry[2])\n",
    "      local targets = torch.Tensor(batchSize)\n",
    "      local k = 1\n",
    "      for i = t,math.min(t+batchSize-1,dataset:size()) do\n",
    "         -- load new sample\n",
    "         local sample = dataset[i]\n",
    "         local input = sample[1]:clone()\n",
    "         local _,target = sample[2]:clone():max(1)\n",
    "         target = target:squeeze()\n",
    "         inputs[k] = input\n",
    "         targets[k] = target\n",
    "         k = k + 1\n",
    "      end\n",
    "\n",
    "      -- test samples\n",
    "      local preds = model:forward(inputs)\n",
    "\n",
    "      -- confusion:\n",
    "      for i = 1,batchSize do\n",
    "         confusion:add(preds[i], targets[i])\n",
    "--          if flag==true then finalLogger:add{preds[i],targets[i]} end\n",
    "      end\n",
    "   end\n",
    "\n",
    "   -- timing\n",
    "   time = sys.clock() - time\n",
    "   time = time / dataset:size()\n",
    "   print(\"<trainer> time to test 1 sample = \" .. (time*1000) .. 'ms')\n",
    "\n",
    "   -- print confusion matrix\n",
    "   print(confusion)\n",
    "   testLogger:add{['% mean class accuracy (test set)'] = confusion.totalValid * 100}\n",
    "    confusion:zero()\n",
    "end\n",
    "\n",
    "----------------------------------------------------------------------\n"
   ]
  },
  {
   "cell_type": "code",
   "execution_count": 17,
   "metadata": {
    "collapsed": false
   },
   "outputs": [
    {
     "data": {
      "text/plain": [
       "<trainer> on training set:\t\n",
       "<trainer> online epoch # 1 [batchSize = 100]\t\n"
      ]
     },
     "execution_count": 17,
     "metadata": {},
     "output_type": "execute_result"
    },
    {
     "data": {
      "text/plain": [
       "Progress: 54401 / 60000\t\n"
      ]
     },
     "execution_count": 17,
     "metadata": {},
     "output_type": "execute_result"
    },
    {
     "data": {
      "text/plain": [
       "<trainer> time to learn 1 sample = 0.064350247383118ms\t\n"
      ]
     },
     "execution_count": 17,
     "metadata": {},
     "output_type": "execute_result"
    },
    {
     "data": {
      "text/plain": [
       "ConfusionMatrix:\n",
       "[[    5555       1      50      21      22     139      56      13      55      11]   93.787% \t[class: 1]\n",
       " [       2    6409      39      57       5      50      13      18     138      11]   95.061% \t[class: 2]\n",
       " [      66      70    5013     119     143      38     131     109     220      49]   84.139% \t[class: 3]\n",
       " [      41      50     152    5164      13     340      45      66     181      79]   84.228% \t[class: 4]\n",
       " [      14      32      60       9    5215      17      61      27      54     353]   89.267% \t[class: 5]\n",
       " [      89      47      65     288     132    4393     112      32     159     104]   81.037% \t[class: 6]\n",
       " [      52      29      83       7      92     101    5485       7      57       5]   92.683% \t[class: 7]\n",
       " [      49      62     108      42     103      14       6    5553      21     307]   88.635% \t[class: 8]\n",
       " [      33     167     105     186      38     253      37      30    4861     141]   83.080% \t[class: 9]\n",
       " [      61      51      37     101     284      51       2     239      69    5054]]  84.955% \t[class: 10]\n",
       " + average row correct: 87.687237858772% \n",
       " + average rowUcol correct (VOC measure): 78.324484229088% \n",
       " + global correct: 87.836666666667%\n",
       "{\n",
       "  valids : FloatTensor - size: 10\n",
       "  mat : LongTensor - size: 10x10\n",
       "  averageUnionValid : 0.78324484229088\n",
       "  _targ_idx : LongTensor - empty\n",
       "  averageValid : 0.87687237858772\n",
       "  classes : \n",
       "    {\n",
       "      1 : 1\n",
       "      2 : 2\n",
       "      3 : 3\n",
       "      4 : 4\n",
       "      5 : 5\n",
       "      6 : 6\n",
       "      7 : 7\n",
       "      8 : 8\n",
       "      9 : 9\n",
       "      10 : 10\n",
       "    }\n",
       "  _prediction : FloatTensor - size: 10\n",
       "  _pred_idx : LongTensor - size: 1\n",
       "  nclasses : 10\n",
       "  _max : FloatTensor - size: 1\n",
       "  _target : FloatTensor - empty\n",
       "  unionvalids : FloatTensor - size: 10\n",
       "  totalValid : 0.87836666666667\n",
       "}\n"
      ]
     },
     "execution_count": 17,
     "metadata": {},
     "output_type": "execute_result"
    },
    {
     "data": {
      "text/plain": [
       "<trainer> saving network to /home/saurabh/Desktop/COGS 260/Project 2/saurabh/torch tutorial/Assignment 2/mnist.net\t\n",
       "<trainer> on testing Set:\t\n"
      ]
     },
     "execution_count": 17,
     "metadata": {},
     "output_type": "execute_result"
    },
    {
     "data": {
      "text/plain": [
       "<trainer> time to test 1 sample = 0.043629097938538ms\t\n",
       "ConfusionMatrix:\n",
       "[[     948       0       1       2       0      19       7       1       2       0]   96.735% \t[class: 1]\n",
       " [       0    1108       2       2       0       2       4       2      15       0]   97.621% \t[class: 2]\n",
       " [      12      15     878      17      21      11      18      14      40       6]   85.078% \t[class: 3]\n",
       " [       7       1      19     865       1      76       1      14      14      12]   85.644% \t[class: 4]\n",
       " [       3       4       4       1     897       4      10       1       4      54]   91.344% \t[class: 5]\n",
       " [       8       4       4      23       5     808      13       3      14      10]   90.583% \t[class: 6]\n",
       " [      14       3       4       1      13      34     887       1       1       0]   92.589% \t[class: 7]\n",
       " [       3      10      24       6       7       4       0     908       3      63]   88.327% \t[class: 8]\n",
       " [       8      14       8      25       8      76      11       7     791      26]   81.212% \t[class: 9]\n",
       " [      10       8       2       9      34      13       1      17       6     909]]  90.089% \t[class: 10]\n",
       " + average row correct: 89.922035336494% \n",
       " + average rowUcol correct (VOC measure): 81.836537122726% \n",
       " + global correct: 89.99%\n",
       "{\n",
       "  valids : FloatTensor - size: 10\n",
       "  mat : LongTensor - size: 10x10\n",
       "  averageUnionValid : 0.81836537122726\n",
       " "
      ]
     },
     "execution_count": 17,
     "metadata": {},
     "output_type": "execute_result"
    },
    {
     "data": {
      "text/plain": [
       " _targ_idx : LongTensor - empty\n",
       "  averageValid : 0.89922035336494\n",
       "  classes : \n",
       "    {\n",
       "      1 : 1\n",
       "      2 : 2\n",
       "      3 : 3\n",
       "      4 : 4\n",
       "      5 : 5\n",
       "      6 : 6\n",
       "      7 : 7\n",
       "      8 : 8\n",
       "      9 : 9\n",
       "      10 : 10\n",
       "    }\n",
       "  _prediction : FloatTensor - size: 10\n",
       "  _pred_idx : LongTensor - size: 1\n",
       "  nclasses : 10\n",
       "  _max : FloatTensor - size: 1\n",
       "  _target : FloatTensor - empty\n",
       "  unionvalids : FloatTensor - size: 10\n",
       "  totalValid : 0.8999\n",
       "}\n",
       "<trainer> on training set:\t\n",
       "<trainer> online epoch # 2 [batchSize = 100]\t\n"
      ]
     },
     "execution_count": 17,
     "metadata": {},
     "output_type": "execute_result"
    },
    {
     "data": {
      "text/plain": [
       "Progress: 49201 / 60000\t\n"
      ]
     },
     "execution_count": 17,
     "metadata": {},
     "output_type": "execute_result"
    },
    {
     "data": {
      "text/plain": [
       "<trainer> time to learn 1 sample = 0.062403786182404ms\t\n"
      ]
     },
     "execution_count": 17,
     "metadata": {},
     "output_type": "execute_result"
    },
    {
     "data": {
      "text/plain": [
       "ConfusionMatrix:\n",
       "[[    5674       1      34      14      15      89      43       6      41       6]   95.796% \t[class: 1]\n",
       " [       2    6507      28      32       7      36       7      17      94      12]   96.514% \t[class: 2]\n",
       " [      45      66    5200     103     123      32     101      90     174      24]   87.278% \t[class: 3]\n",
       " [      25      40     125    5346       4     278      29      72     144      68]   87.196% \t[class: 4]\n",
       " [       7      24      43       9    5390       6      55      15      41     252]   92.263% \t[class: 5]\n",
       " [      74      41      55     220      79    4608      96      24     156      68]   85.003% \t[class: 6]\n",
       " [      40      19      63       5      86      95    5580       2      28       0]   94.289% \t[class: 7]\n",
       " [      26      33     103      24      71      11       3    5759      15     220]   91.923% \t[class: 8]\n",
       " [      33     130      79     156      31     204      42      21    5054     101]   86.378% \t[class: 9]\n",
       " [      39      35      24      84     195      40       2     211      53    5266]]  88.519% \t[class: 10]\n",
       " + average row correct: 90.515941977501% \n",
       " + average rowUcol correct (VOC measure): 82.848733067513% \n",
       " + global correct: 90.64%\n",
       "{\n",
       "  valids : FloatTensor - size: 10\n",
       "  mat : LongTensor - size: 10x10\n",
       "  averageUnionValid : 0.82848733067513\n",
       "  _targ_idx : LongTensor - empty\n",
       "  averageValid : 0.90515941977501\n",
       "  classes : \n",
       "    {\n",
       "      1 : 1\n",
       "      2 : 2\n",
       "      3 : 3\n",
       "      4 : 4\n",
       "      5 : 5\n",
       "      6 : 6\n",
       "      7 : 7\n",
       "      8 : 8\n",
       "      9 : 9\n",
       "      10 : 10\n",
       "    }\n",
       "  _prediction : FloatTensor - size: 10\n",
       "  _pred_idx : LongTensor - size: 1\n",
       "  nclasses : 10\n",
       "  _max : FloatTensor - size: 1\n",
       "  _target : FloatTensor - empty\n",
       "  unionvalids : FloatTensor - size: 10\n",
       "  totalValid : 0.9064\n",
       "}\n"
      ]
     },
     "execution_count": 17,
     "metadata": {},
     "output_type": "execute_result"
    },
    {
     "data": {
      "text/plain": [
       "<trainer> saving network to /home/saurabh/Desktop/COGS 260/Project 2/saurabh/torch tutorial/Assignment 2/mnist.net\t\n",
       "<trainer> on testing Set:\t\n"
      ]
     },
     "execution_count": 17,
     "metadata": {},
     "output_type": "execute_result"
    },
    {
     "data": {
      "text/plain": [
       "<trainer> time to test 1 sample = 0.035649704933167ms\t\n",
       "ConfusionMatrix:\n",
       "[[     952       0       2       1       0      17       6       1       1       0]   97.143% \t[class: 1]\n",
       " [       0    1108       2       2       0       2       3       2      16       0]   97.621% \t[class: 2]\n",
       " [      12      14     890      16      16      11      14      12      41       6]   86.240% \t[class: 3]\n",
       " [       6       1      17     865       0      79       1      15      14      12]   85.644% \t[class: 4]\n",
       " [       1       2       4       1     907       4      10       2       4      47]   92.363% \t[class: 5]\n",
       " [       9       2       4      21       4     812      11       4      17       8]   91.031% \t[class: 6]\n",
       " [      13       3       6       1      15      37     881       1       1       0]   91.962% \t[class: 7]\n",
       " [       4       8      21       7       6       4       0     918       4      56]   89.300% \t[class: 8]\n",
       " [       9      12       7      21       8      70       8       9     810      20]   83.162% \t[class: 9]\n",
       " [      11       7       1       9      26      12       1      17       7     918]]  90.981% \t[class: 10]\n",
       " + average row correct: 90.544720888138% \n",
       " + average rowUcol correct (VOC measure): 82.865376472473% \n",
       " + global correct: 90.61%\n",
       "{\n",
       "  valids : FloatTensor - size: 10\n",
       "  mat : LongTensor - size: 10x10\n",
       "  averageUnionValid : 0.82865376472473\n",
       "  _targ_idx : LongTensor - empty\n"
      ]
     },
     "execution_count": 17,
     "metadata": {},
     "output_type": "execute_result"
    },
    {
     "data": {
      "text/plain": [
       "  averageValid : 0.90544720888138\n",
       "  classes : \n",
       "    {\n",
       "      1 : 1\n",
       "      2 : 2\n",
       "      3 : 3\n",
       "      4 : 4\n",
       "      5 : 5\n",
       "      6 : 6\n",
       "      7 : 7\n",
       "      8 : 8\n",
       "      9 : 9\n",
       "      10 : 10\n",
       "    }\n",
       "  _prediction : FloatTensor - size: 10\n",
       "  _pred_idx : LongTensor - size: 1\n",
       "  nclasses : 10\n",
       "  _max : FloatTensor - size: 1\n",
       "  _target : FloatTensor - empty\n",
       "  unionvalids : FloatTensor - size: 10\n",
       "  totalValid : 0.9061\n",
       "}\n"
      ]
     },
     "execution_count": 17,
     "metadata": {},
     "output_type": "execute_result"
    },
    {
     "data": {
      "text/plain": [
       "<trainer> on training set:\t\n",
       "<trainer> online epoch # 3 [batchSize = 100]\t\n"
      ]
     },
     "execution_count": 17,
     "metadata": {},
     "output_type": "execute_result"
    },
    {
     "data": {
      "text/plain": [
       "Progress: 41601 / 60000\t\n"
      ]
     },
     "execution_count": 17,
     "metadata": {},
     "output_type": "execute_result"
    },
    {
     "data": {
      "text/plain": [
       "<trainer> time to learn 1 sample = 0.067677998542786ms\t\n"
      ]
     },
     "execution_count": 17,
     "metadata": {},
     "output_type": "execute_result"
    },
    {
     "data": {
      "text/plain": [
       "ConfusionMatrix:\n",
       "[[    5676       1      33      13      14      88      45       8      40       5]   95.830% \t[class: 1]\n",
       " [       2    6517      28      30       7      35       6      18      88      11]   96.663% \t[class: 2]\n",
       " [      42      64    5235     100     116      31      95      83     170      22]   87.865% \t[class: 3]\n",
       " [      20      39     119    5403       4     261      28      63     136      58]   88.126% \t[class: 4]\n",
       " [       9      25      42       7    5418       5      55      14      37     230]   92.742% \t[class: 5]\n",
       " [      72      39      55     212      69    4640     100      22     148      64]   85.593% \t[class: 6]\n",
       " [      39      17      63       4      78      87    5599       3      27       1]   94.610% \t[class: 7]\n",
       " [      25      28      88      26      67      10       2    5797      15     207]   92.530% \t[class: 8]\n",
       " [      30     122      76     152      28     193      42      22    5093      93]   87.045% \t[class: 9]\n",
       " [      33      33      25      81     176      34       2     197      50    5318]]  89.393% \t[class: 10]\n",
       " + average row correct: 91.039649248123% \n",
       " + average rowUcol correct (VOC measure): 83.712450861931% \n",
       " + global correct: 91.16%\n",
       "{\n",
       "  valids : FloatTensor - size: 10\n",
       "  mat : LongTensor - size: 10x10\n",
       "  averageUnionValid : 0.83712450861931\n",
       "  _targ_idx : LongTensor - empty\n",
       "  averageValid : 0.91039649248123\n",
       "  classes : \n",
       "    {\n",
       "      1 : 1\n",
       "      2 : 2\n",
       "      3 : 3\n",
       "      4 : 4\n",
       "      5 : 5\n",
       "      6 : 6\n",
       "      7 : 7\n",
       "      8 : 8\n",
       "      9 : 9\n",
       "      10 : 10\n",
       "    }\n",
       "  _prediction : FloatTensor - size: 10\n",
       "  _pred_idx : LongTensor - size: 1\n",
       "  nclasses : 10\n",
       "  _max : FloatTensor - size: 1\n",
       "  _target : FloatTensor - empty\n",
       "  unionvalids : FloatTensor - size: 10\n",
       "  totalValid : 0.9116\n",
       "}\n"
      ]
     },
     "execution_count": 17,
     "metadata": {},
     "output_type": "execute_result"
    },
    {
     "data": {
      "text/plain": [
       "<trainer> saving network to /home/saurabh/Desktop/COGS 260/Project 2/saurabh/torch tutorial/Assignment 2/mnist.net\t\n",
       "<trainer> on testing Set:\t\n"
      ]
     },
     "execution_count": 17,
     "metadata": {},
     "output_type": "execute_result"
    },
    {
     "data": {
      "text/plain": [
       "<trainer> time to test 1 sample = 0.03378541469574ms\t\n"
      ]
     },
     "execution_count": 17,
     "metadata": {},
     "output_type": "execute_result"
    },
    {
     "data": {
      "text/plain": [
       "ConfusionMatrix:\n",
       "[[     950       0       3       1       0      17       7       1       1       0]   96.939% \t[class: 1]\n",
       " [       0    1108       2       2       0       2       3       2      16       0]   97.621% \t[class: 2]\n",
       " [      12      14     895      15      14      10      15      11      41       5]   86.725% \t[class: 3]\n",
       " [       5       1      18     871       0      72       1      14      15      13]   86.238% \t[class: 4]\n",
       " [       1       2       6       1     901       5      10       2       6      48]   91.752% \t[class: 5]\n",
       " [       9       2       4      22       4     810      12       5      18       6]   90.807% \t[class: 6]\n",
       " [      13       3       7       1      13      39     879       2       1       0]   91.754% \t[class: 7]\n",
       " [       3       9      19       7       6       3       0     924       5      52]   89.883% \t[class: 8]\n",
       " [       9      12       6      19       8      73       7      10     814      16]   83.573% \t[class: 9]\n",
       " [      11       7       1       9      18      12       1      17       6     927]]  91.873% \t[class: 10]\n",
       " + average row correct: 90.716400742531% \n",
       " + average rowUcol correct (VOC measure): 83.158847093582% \n",
       " + global correct: 90.79%\n",
       "{\n",
       "  valids : FloatTensor - size: 10\n",
       "  mat : LongTensor - size: 10x10\n",
       "  averageUnionValid : 0.83158847093582\n",
       "  _targ_idx : LongTensor - empty\n",
       "  averageValid : 0.90716400742531\n",
       "  classes : \n",
       "    {\n",
       "      1 : 1\n",
       "      2 : 2\n",
       "      3 : 3\n",
       "      4 : 4\n",
       "      5 : 5\n",
       "      6 : 6\n",
       "      7 : 7\n",
       "      8 : 8\n",
       "      9 : 9\n",
       "      10 : 10\n",
       "    }\n",
       "  _prediction : FloatTensor - size: 10\n",
       "  _pred_idx : LongTensor - size: 1\n",
       "  nclasses : 10\n",
       "  _max : FloatTensor - size: 1\n",
       "  _target : FloatTensor - empty\n",
       "  unionvalids : FloatTensor - size: 10\n",
       "  totalValid : 0.9079\n",
       "}\n"
      ]
     },
     "execution_count": 17,
     "metadata": {},
     "output_type": "execute_result"
    },
    {
     "data": {
      "text/plain": [
       "<trainer> on training set:\t\n",
       "<trainer> online epoch # 4 [batchSize = 100]\t\n"
      ]
     },
     "execution_count": 17,
     "metadata": {},
     "output_type": "execute_result"
    },
    {
     "data": {
      "text/plain": [
       "Progress: 38001 / 60000\t\n"
      ]
     },
     "execution_count": 17,
     "metadata": {},
     "output_type": "execute_result"
    },
    {
     "data": {
      "text/plain": [
       "<trainer> time to learn 1 sample = 0.060415069262187ms\t\n"
      ]
     },
     "execution_count": 17,
     "metadata": {},
     "output_type": "execute_result"
    },
    {
     "data": {
      "text/plain": [
       "ConfusionMatrix:\n",
       "[[    5690       1      33      13      13      84      45       7      33       4]   96.066% \t[class: 1]\n",
       " [       2    6532      27      26       7      33       5      17      81      12]   96.885% \t[class: 2]\n",
       " [      35      63    5266      97     110      32      89      82     164      20]   88.385% \t[class: 3]\n",
       " [      21      33     120    5413       5     253      27      63     140      56]   88.289% \t[class: 4]\n",
       " [       9      27      41       6    5429       4      57      16      35     218]   92.931% \t[class: 5]\n",
       " [      68      36      55     200      66    4676      98      22     141      59]   86.257% \t[class: 6]\n",
       " [      40      17      62       3      73      84    5609       3      26       1]   94.779% \t[class: 7]\n",
       " [      24      23      85      25      63      10       2    5826      15     192]   92.993% \t[class: 8]\n",
       " [      31     119      71     155      28     184      43      21    5110      89]   87.335% \t[class: 9]\n",
       " [      31      32      22      81     168      32       2     196      48    5337]]  89.713% \t[class: 10]\n",
       " + average row correct: 91.363292336464% \n",
       " + average rowUcol correct (VOC measure): 84.250403642654% \n",
       " + global correct: 91.48%\n",
       "{\n",
       "  valids : FloatTensor - size: 10\n",
       "  mat : LongTensor - size: 10x10\n",
       "  averageUnionValid : 0.84250403642654\n",
       "  _targ_idx : LongTensor - empty\n",
       "  averageValid : 0.91363292336464\n",
       "  classes : \n",
       "    {\n",
       "      1 : 1\n",
       "      2 : 2\n",
       "      3 : 3\n",
       "      4 : 4\n",
       "      5 : 5\n",
       "      6 : 6\n",
       "      7 : 7\n",
       "      8 : 8\n",
       "      9 : 9\n",
       "      10 : 10\n",
       "    }\n",
       "  _prediction : FloatTensor - size: 10\n",
       "  _pred_idx : LongTensor - size: 1\n",
       "  nclasses : 10\n",
       "  _max : FloatTensor - size: 1\n",
       "  _target : FloatTensor - empty\n",
       "  unionvalids : FloatTensor - size: 10\n",
       "  totalValid : 0.9148\n",
       "}\n"
      ]
     },
     "execution_count": 17,
     "metadata": {},
     "output_type": "execute_result"
    },
    {
     "data": {
      "text/plain": [
       "<trainer> saving network to /home/saurabh/Desktop/COGS 260/Project 2/saurabh/torch tutorial/Assignment 2/mnist.net\t\n",
       "<trainer> on testing Set:\t\n"
      ]
     },
     "execution_count": 17,
     "metadata": {},
     "output_type": "execute_result"
    },
    {
     "data": {
      "text/plain": [
       "<trainer> time to test 1 sample = 0.032224607467651ms\t\n",
       "ConfusionMatrix:\n",
       "[[     948       0       3       1       0      19       7       1       1       0]   96.735% \t[class: 1]\n",
       " [       0    1109       2       2       0       3       3       2      14       0]   97.709% \t[class: 2]\n",
       " [       9      12     904      15      13      10      15      10      39       5]   87.597% \t[class: 3]\n",
       " [       4       1      18     877       0      68       1      13      16      12]   86.832% \t[class: 4]\n",
       " [       1       2       7       1     899       4      10       2       6      50]   91.548% \t[class: 5]\n",
       " [       9       2       4      22       4     811      10       5      19       6]   90.919% \t[class: 6]\n",
       " [      12       3       7       1      14      38     880       2       1       0]   91.858% \t[class: 7]\n",
       " [       3       9      20       7       5       2       0     928       3      51]   90.272% \t[class: 8]\n",
       " [       8      10       5      20       9      67       7       9     823      16]   84.497% \t[class: 9]\n",
       " [      10       6       1      10      18      11       1      15       6     931]]  92.270% \t[class: 10]\n",
       " + average row correct: 91.02365732193% \n",
       " + average rowUcol correct (VOC measure): 83.673787117004% \n",
       " + global correct: 91.1%\n",
       "{\n",
       "  valids : FloatTensor - size: 10\n",
       "  mat : LongTensor - size: 10x10\n",
       "  averageUnionValid : 0.83673787117004\n",
       "  _targ_idx : LongTensor - empty\n",
       "  averageValid : 0.9102365732193\n",
       "  classes : \n",
       "    {\n",
       "      1 : 1\n",
       "      2 : 2\n"
      ]
     },
     "execution_count": 17,
     "metadata": {},
     "output_type": "execute_result"
    },
    {
     "data": {
      "text/plain": [
       "      3 : 3\n",
       "      4 : 4\n",
       "      5 : 5\n",
       "      6 : 6\n",
       "      7 : 7\n",
       "      8 : 8\n",
       "      9 : 9\n",
       "      10 : 10\n",
       "    }\n",
       "  _prediction : FloatTensor - size: 10\n",
       "  _pred_idx : LongTensor - size: 1\n",
       "  nclasses : 10\n",
       "  _max : FloatTensor - size: 1\n",
       "  _target : FloatTensor - empty\n",
       "  unionvalids : FloatTensor - size: 10\n",
       "  totalValid : 0.911\n",
       "}\n"
      ]
     },
     "execution_count": 17,
     "metadata": {},
     "output_type": "execute_result"
    },
    {
     "data": {
      "text/plain": [
       "<trainer> on training set:\t\n",
       "<trainer> online epoch # 5 [batchSize = 100]\t\n"
      ]
     },
     "execution_count": 17,
     "metadata": {},
     "output_type": "execute_result"
    },
    {
     "data": {
      "text/plain": [
       "Progress: 34601 / 60000\t\n"
      ]
     },
     "execution_count": 17,
     "metadata": {},
     "output_type": "execute_result"
    },
    {
     "data": {
      "text/plain": [
       "<trainer> time to learn 1 sample = 0.063206919034322ms\t\n"
      ]
     },
     "execution_count": 17,
     "metadata": {},
     "output_type": "execute_result"
    },
    {
     "data": {
      "text/plain": [
       "ConfusionMatrix:\n",
       "[[    5707       1      30      11      13      75      42       7      32       5]   96.353% \t[class: 1]\n",
       " [       2    6532      28      25       7      32       4      19      81      12]   96.885% \t[class: 2]\n",
       " [      34      60    5277      95     107      27      86      83     170      19]   88.570% \t[class: 3]\n",
       " [      22      32     117    5434       4     248      24      62     135      53]   88.632% \t[class: 4]\n",
       " [       8      25      41       5    5448       5      57      17      34     202]   93.256% \t[class: 5]\n",
       " [      70      35      55     193      65    4689      92      23     142      57]   86.497% \t[class: 6]\n",
       " [      39      16      62       3      69      80    5619       3      26       1]   94.948% \t[class: 7]\n",
       " [      24      19      84      22      59      10       2    5841      14     190]   93.232% \t[class: 8]\n",
       " [      32     116      73     152      29     174      45      21    5124      85]   87.575% \t[class: 9]\n",
       " [      32      33      22      77     168      34       2     196      47    5338]]  89.729% \t[class: 10]\n",
       " + average row correct: 91.56766295433% \n",
       " + average rowUcol correct (VOC measure): 84.591477513313% \n",
       " + global correct: 91.681666666667%\n",
       "{\n",
       "  valids : FloatTensor - size: 10\n",
       "  mat : LongTensor - size: 10x10\n",
       "  averageUnionValid : 0.84591477513313\n",
       "  _targ_idx : LongTensor - empty\n",
       "  averageValid : 0.9156766295433\n",
       "  classes : \n",
       "    {\n",
       "      1 : 1\n",
       "      2 : 2\n",
       "      3 : 3\n",
       "      4 : 4\n",
       "      5 : 5\n",
       "      6 : 6\n",
       "      7 : 7\n",
       "      8 : 8\n",
       "      9 : 9\n",
       "      10 : 10\n",
       "    }\n",
       "  _prediction : FloatTensor - size: 10\n",
       "  _pred_idx : LongTensor - size: 1\n",
       "  nclasses : 10\n",
       "  _max : FloatTensor - size: 1\n",
       "  _target : FloatTensor - empty\n",
       "  unionvalids : FloatTensor - size: 10\n",
       "  totalValid : 0.91681666666667\n",
       "}\n"
      ]
     },
     "execution_count": 17,
     "metadata": {},
     "output_type": "execute_result"
    },
    {
     "data": {
      "text/plain": [
       "<trainer> saving network to /home/saurabh/Desktop/COGS 260/Project 2/saurabh/torch tutorial/Assignment 2/mnist.net\t\n",
       "<trainer> on testing Set:\t\n"
      ]
     },
     "execution_count": 17,
     "metadata": {},
     "output_type": "execute_result"
    },
    {
     "data": {
      "text/plain": [
       "<trainer> time to test 1 sample = 0.032843995094299ms\t\n"
      ]
     },
     "execution_count": 17,
     "metadata": {},
     "output_type": "execute_result"
    },
    {
     "data": {
      "text/plain": [
       "ConfusionMatrix:\n",
       "[[     950       0       3       1       0      18       6       1       1       0]   96.939% \t[class: 1]\n",
       " [       0    1109       2       2       0       3       3       2      14       0]   97.709% \t[class: 2]\n",
       " [       9      12     904      15      10      11      16      10      40       5]   87.597% \t[class: 3]\n",
       " [       4       1      18     874       0      71       1      14      16      11]   86.535% \t[class: 4]\n",
       " [       1       2       7       1     897       4      10       3       7      50]   91.344% \t[class: 5]\n",
       " [       8       2       4      19       4     818      10       4      17       6]   91.704% \t[class: 6]\n",
       " [      12       3       7       1      12      38     882       2       1       0]   92.067% \t[class: 7]\n",
       " [       2       9      20       7       5       2       0     931       3      49]   90.564% \t[class: 8]\n",
       " [       8      12       6      21       9      69       8       7     818      16]   83.984% \t[class: 9]\n",
       " [      10       7       1      10      18      12       1      16       6     928]]  91.972% \t[class: 10]\n",
       " + average row correct: 91.041464209557% \n",
       " + average rowUcol correct (VOC measure): 83.699818253517% \n",
       " + global correct: 91.11%\n",
       "{\n",
       "  valids : FloatTensor - size: 10\n",
       "  mat : LongTensor - size: 10x10\n",
       "  averageUnionValid : 0.83699818253517\n",
       "  _targ_idx : LongTensor - empty\n",
       "  averageValid : 0.91041464209557\n",
       "  classes : \n",
       "    {\n",
       "      1 : 1\n",
       "      2 : 2\n",
       "      3 : 3\n",
       "      4 : 4\n",
       "      5 : 5\n",
       "      6 : 6\n",
       "      7 : 7\n",
       "      8 : 8\n",
       "      9 : 9\n",
       "      10 : 10\n",
       "    }\n",
       "  _prediction : FloatTensor - size: 10\n",
       "  _pred_idx : LongTensor - size: 1\n",
       "  nclasses : 10\n",
       "  _max : FloatTensor - size: 1\n",
       "  _target : FloatTensor - empty\n",
       "  unionvalids : FloatTensor - size: 10\n",
       "  totalValid : 0.9111\n",
       "}\n"
      ]
     },
     "execution_count": 17,
     "metadata": {},
     "output_type": "execute_result"
    },
    {
     "data": {
      "text/plain": [
       "<trainer> on training set:\t\n",
       "<trainer> online epoch # 6 [batchSize = 100]\t\n"
      ]
     },
     "execution_count": 17,
     "metadata": {},
     "output_type": "execute_result"
    },
    {
     "data": {
      "text/plain": [
       "Progress: 28301 / 60000\t\n"
      ]
     },
     "execution_count": 17,
     "metadata": {},
     "output_type": "execute_result"
    },
    {
     "data": {
      "text/plain": [
       "<trainer> time to learn 1 sample = 0.06148099899292ms\t\n"
      ]
     },
     "execution_count": 17,
     "metadata": {},
     "output_type": "execute_result"
    },
    {
     "data": {
      "text/plain": [
       "ConfusionMatrix:\n",
       "[[    5714       1      28      10      12      72      42       7      32       5]   96.471% \t[class: 1]\n",
       " [       2    6530      27      27       8      31       4      19      82      12]   96.856% \t[class: 2]\n",
       " [      35      57    5300      95      97      28      82      80     164      20]   88.956% \t[class: 3]\n",
       " [      23      31     113    5453       5     238      25      60     133      50]   88.941% \t[class: 4]\n",
       " [       8      25      41       6    5456       7      56      17      36     190]   93.393% \t[class: 5]\n",
       " [      71      34      54     184      65    4706      90      23     139      55]   86.811% \t[class: 6]\n",
       " [      38      16      60       1      68      76    5629       3      26       1]   95.117% \t[class: 7]\n",
       " [      24      16      83      22      60       8       2    5850      16     184]   93.376% \t[class: 8]\n",
       " [      32     110      73     150      28     174      44      18    5138      84]   87.814% \t[class: 9]\n",
       " [      32      32      21      77     167      33       2     193      46    5346]]  89.864% \t[class: 10]\n",
       " + average row correct: 91.759799718857% \n",
       " + average rowUcol correct (VOC measure): 84.911409020424% \n",
       " + global correct: 91.87%\n",
       "{\n",
       "  valids : FloatTensor - size: 10\n",
       "  mat : LongTensor - size: 10x10\n",
       "  averageUnionValid : 0.84911409020424\n",
       "  _targ_idx : LongTensor - empty\n",
       "  averageValid : 0.91759799718857\n",
       "  classes : \n",
       "    {\n",
       "      1 : 1\n",
       "      2 : 2\n",
       "      3 : 3\n",
       "      4 : 4\n",
       "      5 : 5\n",
       "      6 : 6\n",
       "      7 : 7\n",
       "      8 : 8\n",
       "      9 : 9\n",
       "      10 : 10\n",
       "    }\n",
       "  _prediction : FloatTensor - size: 10\n",
       "  _pred_idx : LongTensor - size: 1\n",
       "  nclasses : 10\n",
       "  _max : FloatTensor - size: 1\n",
       "  _target : FloatTensor - empty\n",
       "  unionvalids : FloatTensor - size: 10\n",
       "  totalValid : 0.9187\n",
       "}\n"
      ]
     },
     "execution_count": 17,
     "metadata": {},
     "output_type": "execute_result"
    },
    {
     "data": {
      "text/plain": [
       "<trainer> saving network to /home/saurabh/Desktop/COGS 260/Project 2/saurabh/torch tutorial/Assignment 2/mnist.net\t\n",
       "<trainer> on testing Set:\t\n"
      ]
     },
     "execution_count": 17,
     "metadata": {},
     "output_type": "execute_result"
    },
    {
     "data": {
      "text/plain": [
       "<trainer> time to test 1 sample = 0.032432103157043ms\t\n",
       "ConfusionMatrix:\n",
       "[[     952       0       3       1       0      16       6       1       1       0]   97.143% \t[class: 1]\n",
       " [       0    1109       2       2       0       3       3       2      14       0]   97.709% \t[class: 2]\n",
       " [       9      10     906      15      11      13      13      11      39       5]   87.791% \t[class: 3]\n",
       " [       4       1      17     875       0      70       1      15      16      11]   86.634% \t[class: 4]\n",
       " [       1       2       9       1     895       4       8       4       7      51]   91.141% \t[class: 5]\n",
       " [       8       2       4      20       4     817      10       4      17       6]   91.592% \t[class: 6]\n",
       " [      12       3       7       1      12      38     882       2       1       0]   92.067% \t[class: 7]\n",
       " [       1       8      22       6       5       2       0     936       1      47]   91.051% \t[class: 8]\n",
       " [       8       9       6      21       9      61       9       7     829      15]   85.113% \t[class: 9]\n",
       " [      10       7       1      10      20       8       1      17       7     928]]  91.972% \t[class: 10]\n",
       " + average row correct: 91.221150755882% \n",
       " + average rowUcol correct (VOC measure): 83.992908000946% \n",
       " + global correct: 91.29%\n",
       "{\n",
       "  valids : FloatTensor - size: 10\n",
       "  mat : LongTensor - size: 10x10\n",
       "  averageUnionValid : 0.83992908000946\n",
       "  _targ_idx : LongTensor - empty\n",
       "  averageValid : 0.91221150755882\n",
       "  classes : \n",
       "    {\n",
       "      1 : 1\n",
       "      2 : 2\n",
       "      3 : 3\n",
       "      4 : 4\n",
       "      5 : 5\n",
       "      6 : 6\n",
       "      7 : 7\n",
       "      8 : 8\n",
       "      9 : 9\n",
       "      10 : 10\n",
       "    }\n",
       "  _prediction : FloatTensor - size: 10\n",
       "  _pred_idx : LongTensor - size: 1\n",
       "  nclasses : 10\n",
       "  _max : FloatTensor - size: 1\n"
      ]
     },
     "execution_count": 17,
     "metadata": {},
     "output_type": "execute_result"
    },
    {
     "data": {
      "text/plain": [
       "  _target : FloatTensor - empty\n",
       "  unionvalids : FloatTensor - size: 10\n",
       "  totalValid : 0.9129\n",
       "}\n"
      ]
     },
     "execution_count": 17,
     "metadata": {},
     "output_type": "execute_result"
    },
    {
     "data": {
      "text/plain": [
       "<trainer> on training set:\t\n",
       "<trainer> online epoch # 7 [batchSize = 100]\t\n"
      ]
     },
     "execution_count": 17,
     "metadata": {},
     "output_type": "execute_result"
    },
    {
     "data": {
      "text/plain": [
       "Progress: 24001 / 60000\t\n"
      ]
     },
     "execution_count": 17,
     "metadata": {},
     "output_type": "execute_result"
    },
    {
     "data": {
      "text/plain": [
       "<trainer> time to learn 1 sample = 0.060520247618357ms\t\n",
       "ConfusionMatrix:\n",
       "[[    5719       1      28      11      14      68      39       7      31       5]   96.556% \t[class: 1]\n",
       " [       2    6537      28      27       8      30       4      18      76      12]   96.959% \t[class: 2]\n",
       " [      37      57    5301      97      98      28      81      80     161      18]   88.973% \t[class: 3]\n",
       " [      23      30     115    5457       5     231      25      58     136      51]   89.007% \t[class: 4]\n",
       " [       7      26      39       5    5460       8      56      18      34     189]   93.461% \t[class: 5]\n",
       " [      65      34      54     181      64    4718      91      23     137      54]   87.032% \t[class: 6]\n",
       " [      37      15      59       2      70      75    5630       4      25       1]   95.133% \t[class: 7]\n",
       " [      24      15      79      23      59       8       2    5855      16     184]   93.456% \t[class: 8]\n",
       " [      32     108      72     149      26     170      46      19    5147      82]   87.968% \t[class: 9]\n",
       " [      31      32      20      77     165      31       2     189      47    5355]]  90.015% \t[class: 10]\n",
       " + average row correct: 91.855990290642% \n",
       " + average rowUcol correct (VOC measure): 85.073453187943% \n",
       " + global correct: 91.965%\n",
       "{\n",
       "  valids : FloatTensor - size: 10\n",
       "  mat : LongTensor - size: 10x10\n",
       "  averageUnionValid : 0.85073453187943\n",
       "  _targ_idx : LongTensor - empty\n",
       "  averageValid : 0.91855990290642\n",
       "  classes : \n",
       "    {\n",
       "      1 : 1\n",
       "      2 : 2\n",
       "      3 : 3\n",
       "      4 : 4\n",
       "      5 : 5\n",
       "      6 : 6\n",
       "      7 : 7\n",
       "      8 : 8\n",
       "      9 : 9\n",
       "      10 : 10\n",
       "    }\n",
       "  _prediction : FloatTensor - size: 10\n",
       "  _pred_idx : LongTensor - size: 1\n",
       "  nclasses : 10\n",
       "  _max : FloatTensor - size: 1\n",
       "  _target : FloatTensor - empty\n",
       "  unionvalids : FloatTensor - size: 10\n",
       "  totalValid : 0.91965\n",
       "}\n"
      ]
     },
     "execution_count": 17,
     "metadata": {},
     "output_type": "execute_result"
    },
    {
     "data": {
      "text/plain": [
       "<trainer> saving network to /home/saurabh/Desktop/COGS 260/Project 2/saurabh/torch tutorial/Assignment 2/mnist.net\t\n",
       "<trainer> on testing Set:\t\n"
      ]
     },
     "execution_count": 17,
     "metadata": {},
     "output_type": "execute_result"
    },
    {
     "data": {
      "text/plain": [
       "<trainer> time to test 1 sample = 0.032783102989197ms\t\n"
      ]
     },
     "execution_count": 17,
     "metadata": {},
     "output_type": "execute_result"
    },
    {
     "data": {
      "text/plain": [
       "ConfusionMatrix:\n",
       "[[     955       0       2       1       0      15       5       1       1       0]   97.449% \t[class: 1]\n",
       " [       0    1108       2       2       0       3       4       2      14       0]   97.621% \t[class: 2]\n",
       " [       9      10     908      15      10      12      15       8      40       5]   87.984% \t[class: 3]\n",
       " [       4       1      17     880       0      66       1      14      17      10]   87.129% \t[class: 4]\n",
       " [       1       2       9       1     898       4       8       4       7      48]   91.446% \t[class: 5]\n",
       " [       9       2       4      20       5     813      12       4      17       6]   91.143% \t[class: 6]\n",
       " [      12       3       7       1      11      36     885       2       1       0]   92.380% \t[class: 7]\n",
       " [       1       8      22       6       5       2       0     933       1      50]   90.759% \t[class: 8]\n",
       " [       8      10       6      21       9      58       9       7     831      15]   85.318% \t[class: 9]\n",
       " [      10       8       1       8      20       7       1      15       6     933]]  92.468% \t[class: 10]\n",
       " + average row correct: 91.369763016701% \n",
       " + average rowUcol correct (VOC measure): 84.233588576317% \n",
       " + global correct: 91.44%\n",
       "{\n",
       "  valids : FloatTensor - size: 10\n",
       "  mat : LongTensor - size: 10x10\n",
       "  averageUnionValid : 0.84233588576317\n",
       "  _targ_idx : LongTensor - empty\n",
       "  averageValid : 0.91369763016701\n",
       "  classes : \n",
       "    {\n",
       "      1 : 1\n",
       "      2 : 2\n",
       "      3 : 3\n",
       "      4 : 4\n",
       "      5 : 5\n",
       "      "
      ]
     },
     "execution_count": 17,
     "metadata": {},
     "output_type": "execute_result"
    },
    {
     "data": {
      "text/plain": [
       "6 : 6\n",
       "      7 : 7\n",
       "      8 : 8\n",
       "      9 : 9\n",
       "      10 : 10\n",
       "    }\n",
       "  _prediction : FloatTensor - size: 10\n",
       "  _pred_idx : LongTensor - size: 1\n",
       "  nclasses : 10\n",
       "  _max : FloatTensor - size: 1\n",
       "  _target : FloatTensor - empty\n",
       "  unionvalids : FloatTensor - size: 10\n",
       "  totalValid : 0.9144\n",
       "}\n"
      ]
     },
     "execution_count": 17,
     "metadata": {},
     "output_type": "execute_result"
    },
    {
     "data": {
      "text/plain": [
       "<trainer> on training set:\t\n",
       "<trainer> online epoch # 8 [batchSize = 100]\t\n"
      ]
     },
     "execution_count": 17,
     "metadata": {},
     "output_type": "execute_result"
    },
    {
     "data": {
      "text/plain": [
       "Progress: 19701 / 60000\t\n"
      ]
     },
     "execution_count": 17,
     "metadata": {},
     "output_type": "execute_result"
    },
    {
     "data": {
      "text/plain": [
       "<trainer> time to learn 1 sample = 0.061601869265238ms\t\n",
       "ConfusionMatrix:\n",
       "[[    5717       1      27      12      11      69      42       7      32       5]   96.522% \t[class: 1]\n",
       " [       1    6537      27      28       8      30       4      16      79      12]   96.959% \t[class: 2]\n",
       " [      35      53    5314      98      98      26      78      80     158      18]   89.191% \t[class: 3]\n",
       " [      22      28     115    5466       4     230      25      56     135      50]   89.153% \t[class: 4]\n",
       " [       7      25      38       7    5473       7      54      17      33     181]   93.684% \t[class: 5]\n",
       " [      64      33      56     179      64    4731      89      23     131      51]   87.272% \t[class: 6]\n",
       " [      36      15      62       1      68      75    5633       4      23       1]   95.184% \t[class: 7]\n",
       " [      23      15      79      22      58       8       2    5863      17     178]   93.583% \t[class: 8]\n",
       " [      32     110      69     151      26     166      45      20    5153      79]   88.070% \t[class: 9]\n",
       " [      30      32      21      78     164      31       2     187      45    5359]]  90.082% \t[class: 10]\n",
       " + average row correct: 91.970162987709% \n",
       " + average rowUcol correct (VOC measure): 85.266221761703% \n",
       " + global correct: 92.076666666667%\n",
       "{\n",
       "  valids : FloatTensor - size: 10\n",
       "  mat : LongTensor - size: 10x10\n",
       "  averageUnionValid : 0.85266221761703\n",
       "  _targ_idx : LongTensor - empty\n",
       "  averageValid : 0.91970162987709\n",
       "  classes : \n",
       "    {\n",
       "      1 : 1\n",
       "      2 : 2\n",
       "      3 : 3\n",
       "      4 : 4\n",
       "      5 : 5\n",
       "      6 : 6\n",
       "      7 : 7\n",
       "      8 : 8\n",
       "      9 : 9\n",
       "      10 : 10\n",
       "    }\n",
       "  _prediction : FloatTensor - size: 10\n",
       "  _pred_idx : LongTensor - size: 1\n",
       "  nclasses : 10\n",
       "  _max : FloatTensor - size: 1\n",
       "  _target : FloatTensor - empty\n",
       "  unionvalids : FloatTensor - size: 10\n",
       "  totalValid : 0.92076666666667\n",
       "}\n"
      ]
     },
     "execution_count": 17,
     "metadata": {},
     "output_type": "execute_result"
    },
    {
     "data": {
      "text/plain": [
       "<trainer> saving network to /home/saurabh/Desktop/COGS 260/Project 2/saurabh/torch tutorial/Assignment 2/mnist.net\t\n",
       "<trainer> on testing Set:\t\n"
      ]
     },
     "execution_count": 17,
     "metadata": {},
     "output_type": "execute_result"
    },
    {
     "data": {
      "text/plain": [
       "<trainer> time to test 1 sample = 0.033362698554993ms\t\n",
       "ConfusionMatrix:\n",
       "[[     954       0       2       1       0      15       6       1       1       0]   97.347% \t[class: 1]\n",
       " [       0    1109       2       2       0       2       4       2      14       0]   97.709% \t[class: 2]\n",
       " [       9      10     909      15      11      11      14       8      40       5]   88.081% \t[class: 3]\n",
       " [       4       1      18     876       0      69       1      15      17       9]   86.733% \t[class: 4]\n",
       " [       0       2      10       1     903       3       7       4       6      46]   91.955% \t[class: 5]\n",
       " [       9       2       4      18       5     816      12       4      17       5]   91.480% \t[class: 6]\n",
       " [      12       3       7       1      11      34     887       2       1       0]   92.589% \t[class: 7]\n",
       " [       1       8      21       5       6       2       0     932       2      51]   90.661% \t[class: 8]\n",
       " [       8       9       6      21       9      57       9       7     833      15]   85.524% \t[class: 9]\n",
       " [      10       8       1       8      20       7       1      15       6     933]]  92.468% \t[class: 10]\n",
       " + average row correct: 91.454687714577% \n",
       " + average rowUcol correct (VOC measure): 84.366987943649% \n",
       " + global correct: 91.52%\n",
       "{\n",
       "  valids : FloatTensor - size: 10\n",
       "  mat : LongTensor - size: 10x10\n",
       "  averageUnionValid : 0.84366987943649\n",
       "  _targ_idx : LongTensor - empty\n",
       "  averageValid : 0.91454687714577\n",
       "  classes : \n",
       "    {\n",
       "      1 : 1\n",
       "      2 : 2\n",
       "      3 : 3\n",
       "    "
      ]
     },
     "execution_count": 17,
     "metadata": {},
     "output_type": "execute_result"
    },
    {
     "data": {
      "text/plain": [
       "  4 : 4\n",
       "      5 : 5\n",
       "      6 : 6\n",
       "      7 : 7\n",
       "      8 : 8\n",
       "      9 : 9\n",
       "      10 : 10\n",
       "    }\n",
       "  _prediction : FloatTensor - size: 10\n",
       "  _pred_idx : LongTensor - size: 1\n",
       "  nclasses : 10\n",
       "  _max : FloatTensor - size: 1\n",
       "  _target : FloatTensor - empty\n",
       "  unionvalids : FloatTensor - size: 10\n",
       "  totalValid : 0.9152\n",
       "}\n"
      ]
     },
     "execution_count": 17,
     "metadata": {},
     "output_type": "execute_result"
    },
    {
     "data": {
      "text/plain": [
       "<trainer> on training set:\t\n",
       "<trainer> online epoch # 9 [batchSize = 100]\t\n"
      ]
     },
     "execution_count": 17,
     "metadata": {},
     "output_type": "execute_result"
    },
    {
     "data": {
      "text/plain": [
       "Progress: 14801 / 60000\t\n"
      ]
     },
     "execution_count": 17,
     "metadata": {},
     "output_type": "execute_result"
    },
    {
     "data": {
      "text/plain": [
       "<trainer> time to learn 1 sample = 0.060054000218709ms\t\n",
       "ConfusionMatrix:\n",
       "[[    5721       1      28      13      12      67      38       7      30       6]   96.590% \t[class: 1]\n",
       " [       1    6540      28      28       8      29       4      16      75      13]   97.004% \t[class: 2]\n",
       " [      36      55    5315     102      95      27      77      82     151      18]   89.208% \t[class: 3]\n",
       " [      23      29     115    5470       4     222      25      59     134      50]   89.219% \t[class: 4]\n",
       " [       7      25      37       7    5480       7      52      17      32     178]   93.803% \t[class: 5]\n",
       " [      64      33      58     177      63    4735      87      22     130      52]   87.346% \t[class: 6]\n",
       " [      35      15      61       1      66      73    5639       4      23       1]   95.286% \t[class: 7]\n",
       " [      24      14      78      22      59       7       2    5867      17     175]   93.647% \t[class: 8]\n",
       " [      32     110      69     156      24     169      45      18    5156      72]   88.122% \t[class: 9]\n",
       " [      28      32      22      77     161      30       2     189      45    5363]]  90.150% \t[class: 10]\n",
       " + average row correct: 92.037304639816% \n",
       " + average rowUcol correct (VOC measure): 85.381090044975% \n",
       " + global correct: 92.143333333333%\n",
       "{\n",
       "  valids : FloatTensor - size: 10\n",
       "  mat : LongTensor - size: 10x10\n",
       "  averageUnionValid : 0.85381090044975\n",
       "  _targ_idx : LongTensor - empty\n",
       "  averageValid : 0.92037304639816\n",
       "  classes : \n",
       "    {\n",
       "      1 : 1\n",
       "      2 : 2\n",
       "      3 : 3\n",
       "      4 : 4\n",
       "      5 : 5\n",
       "      6 : 6\n",
       "      7 : 7\n",
       "      8 : 8\n",
       "      9 : 9\n",
       "      10 : 10\n",
       "    }\n",
       "  _prediction : FloatTensor - size: 10\n",
       "  _pred_idx : LongTensor - size: 1\n",
       "  nclasses : 10\n",
       "  _max : FloatTensor - size: 1\n",
       "  _target : FloatTensor - empty"
      ]
     },
     "execution_count": 17,
     "metadata": {},
     "output_type": "execute_result"
    },
    {
     "data": {
      "text/plain": [
       "\n",
       "  unionvalids : FloatTensor - size: 10\n",
       "  totalValid : 0.92143333333333\n",
       "}\n"
      ]
     },
     "execution_count": 17,
     "metadata": {},
     "output_type": "execute_result"
    },
    {
     "data": {
      "text/plain": [
       "<trainer> saving network to /home/saurabh/Desktop/COGS 260/Project 2/saurabh/torch tutorial/Assignment 2/mnist.net\t\n",
       "<trainer> on testing Set:\t\n"
      ]
     },
     "execution_count": 17,
     "metadata": {},
     "output_type": "execute_result"
    },
    {
     "data": {
      "text/plain": [
       "<trainer> time to test 1 sample = 0.034553098678589ms\t\n"
      ]
     },
     "execution_count": 17,
     "metadata": {},
     "output_type": "execute_result"
    },
    {
     "data": {
      "text/plain": [
       "ConfusionMatrix:\n",
       "[[     956       0       2       1       0      14       5       1       1       0]   97.551% \t[class: 1]\n",
       " [       0    1110       2       2       0       1       4       2      14       0]   97.797% \t[class: 2]\n",
       " [       9      10     909      15      12      11      13       8      40       5]   88.081% \t[class: 3]\n",
       " [       4       1      19     878       0      67       1      15      16       9]   86.931% \t[class: 4]\n",
       " [       0       3      10       1     900       3       7       4       6      48]   91.650% \t[class: 5]\n",
       " [      10       2       3      18       5     816      13       4      16       5]   91.480% \t[class: 6]\n",
       " [      12       3       7       1      11      32     889       2       1       0]   92.797% \t[class: 7]\n",
       " [       1       8      21       5       6       2       0     932       2      51]   90.661% \t[class: 8]\n",
       " [       8      10       6      22       9      57       9       7     831      15]   85.318% \t[class: 9]\n",
       " [      10       8       1       8      20       6       1      15       6     934]]  92.567% \t[class: 10]\n",
       " + average row correct: 91.48341178894% \n",
       " + average rowUcol correct (VOC measure): 84.410783052444% \n",
       " + global correct: 91.55%\n",
       "{\n",
       "  valids : FloatTensor - size: 10\n",
       "  mat : LongTensor - size: 10x10\n",
       "  averageUnionValid : 0.84410783052444\n",
       "  _targ_idx : LongTensor - empty\n",
       "  averageValid : 0.9148341178894\n",
       "  classes : \n",
       "    {\n",
       "      1 : 1\n",
       "      2 : 2\n",
       "      3 : 3\n",
       "      4 : 4\n",
       "      5 : 5\n",
       "      6 : 6\n",
       "      7 : 7\n",
       "      8 : 8\n",
       "      9 : 9\n",
       "      10 : 10\n",
       "    }\n",
       "  _prediction : FloatTensor - size: 10\n",
       "  _pred_idx : LongTensor - size: 1\n",
       "  nclasses : 10\n",
       "  _max : FloatTensor - size: 1\n",
       "  _target : FloatTensor - empty\n",
       "  unionvalids : FloatTensor - size: 10\n",
       "  totalValid : 0.9155\n",
       "}\n"
      ]
     },
     "execution_count": 17,
     "metadata": {},
     "output_type": "execute_result"
    },
    {
     "data": {
      "text/plain": [
       "<trainer> on training set:\t\n",
       "<trainer> online epoch # 10 [batchSize = 100]\t\n"
      ]
     },
     "execution_count": 17,
     "metadata": {},
     "output_type": "execute_result"
    },
    {
     "data": {
      "text/plain": [
       "Progress: 10801 / 60000\t\n"
      ]
     },
     "execution_count": 17,
     "metadata": {},
     "output_type": "execute_result"
    },
    {
     "data": {
      "text/plain": [
       "<trainer> time to learn 1 sample = 0.06085033416748ms\t\n",
       "ConfusionMatrix:\n",
       "[[    5717       1      30      10      12      70      38       7      32       6]   96.522% \t[class: 1]\n",
       " [       1    6540      27      28       8      29       4      16      76      13]   97.004% \t[class: 2]\n",
       " [      36      55    5329     101      93      25      77      78     145      19]   89.443% \t[class: 3]\n",
       " [      22      28     117    5481       4     217      25      55     134      48]   89.398% \t[class: 4]\n",
       " [       9      25      39       6    5478       7      49      16      33     180]   93.769% \t[class: 5]\n",
       " [      64      33      56     175      62    4739      88      21     130      53]   87.419% \t[class: 6]\n",
       " [      35      15      64       1      64      75    5638       3      22       1]   95.269% \t[class: 7]\n",
       " [      23      15      79      22      60       7       2    5870      16     171]   93.695% \t[class: 8]\n",
       " [      32     108      72     153      24     165      46      18    5160      73]   88.190% \t[class: 9]\n",
       " [      27      32      23      76     162      31       2     186      44    5366]]  90.200% \t[class: 10]\n",
       " + average row correct: 92.09092438221% \n",
       " + average rowUcol correct (VOC measure): 85.471153259277% \n",
       " + global correct: 92.196666666667%\n",
       "{\n",
       "  valids : FloatTensor - size: 10\n",
       "  mat : LongTensor - size: 10x10\n",
       "  averageUnionValid : 0.85471153259277\n",
       "  _targ_idx : LongTensor - empty\n",
       "  averageValid : 0.9209092438221\n",
       "  classes : \n",
       "    {\n",
       "      1 : 1\n",
       "      2 : 2\n",
       "      3 : 3\n",
       "      4 : 4\n",
       "      5 : 5\n",
       "      6 : 6\n",
       "      7 : 7\n",
       "      8 : 8\n",
       "      9 : 9\n",
       "      10 : 10\n",
       "    }\n",
       "  _prediction : FloatTensor - size: 10\n",
       "  _pred_idx : LongTensor - size: 1\n",
       "  nclasses : 10\n",
       "  _max : FloatTensor - size: 1\n",
       "  _target : FloatTensor - empty\n",
       "  "
      ]
     },
     "execution_count": 17,
     "metadata": {},
     "output_type": "execute_result"
    },
    {
     "data": {
      "text/plain": [
       "unionvalids : FloatTensor - size: 10\n",
       "  totalValid : 0.92196666666667\n",
       "}\n"
      ]
     },
     "execution_count": 17,
     "metadata": {},
     "output_type": "execute_result"
    },
    {
     "data": {
      "text/plain": [
       "<trainer> saving network to /home/saurabh/Desktop/COGS 260/Project 2/saurabh/torch tutorial/Assignment 2/mnist.net\t\n",
       "<trainer> on testing Set:\t\n"
      ]
     },
     "execution_count": 17,
     "metadata": {},
     "output_type": "execute_result"
    },
    {
     "data": {
      "text/plain": [
       "<trainer> time to test 1 sample = 0.033017492294312ms\t\n"
      ]
     },
     "execution_count": 17,
     "metadata": {},
     "output_type": "execute_result"
    },
    {
     "data": {
      "text/plain": [
       "ConfusionMatrix:\n",
       "[[     956       0       2       1       0      14       5       1       1       0]   97.551% \t[class: 1]\n",
       " [       0    1110       2       2       0       1       4       2      14       0]   97.797% \t[class: 2]\n",
       " [      10      10     910      15      11      10      13       8      40       5]   88.178% \t[class: 3]\n",
       " [       4       1      19     878       0      65       1      15      18       9]   86.931% \t[class: 4]\n",
       " [       0       3      10       1     902       3       7       4       7      45]   91.853% \t[class: 5]\n",
       " [      10       2       2      18       5     815      13       4      18       5]   91.368% \t[class: 6]\n",
       " [      12       3       8       1      10      33     888       2       1       0]   92.693% \t[class: 7]\n",
       " [       1       8      21       5       6       3       0     934       1      49]   90.856% \t[class: 8]\n",
       " [       8      10       6      21       9      57       9       7     832      15]   85.421% \t[class: 9]\n",
       " [      10       8       1       8      20       6       1      17       5     933]]  92.468% \t[class: 10]\n",
       " + average row correct: 91.511631608009% \n",
       " + average rowUcol correct (VOC measure): 84.459493160248% \n",
       " + global correct: 91.58%\n",
       "{\n",
       "  valids : FloatTensor - size: 10\n",
       "  mat : LongTensor - size: 10x10\n",
       "  averageUnionValid : 0.84459493160248\n",
       "  _targ_idx : LongTensor - empty\n",
       "  averageValid : 0.91511631608009\n",
       "  classes : \n",
       "    {\n",
       "      1 : 1\n",
       "      2 : 2\n",
       "      3 : 3\n",
       "      4 : 4\n",
       "      5 : 5\n",
       "      6 : 6\n",
       "      7 : 7\n",
       "      8 : 8\n",
       "      9 : 9\n",
       "      10 : 10\n",
       "    }\n",
       "  _prediction : FloatTensor - size: 10\n",
       "  _pred_idx : LongTensor - size: 1\n",
       "  nclasses : 10\n",
       "  _max : FloatTensor - size: 1\n",
       "  _target : FloatTensor - empty\n",
       "  unionvalids : FloatTensor - size: 10\n",
       "  totalValid : 0.9158\n",
       "}\n"
      ]
     },
     "execution_count": 17,
     "metadata": {},
     "output_type": "execute_result"
    }
   ],
   "source": [
    "i = 0\n",
    "while (i<10) do\n",
    "   -- train/test\n",
    "   train(trainData)\n",
    "    test(testData)\n",
    "   i = i + 1\n",
    "   -- plot errors\n",
    "\n",
    "      trainLogger:style{['% mean class accuracy (train set)'] = '-'}\n",
    "      testLogger:style{['% mean class accuracy (test set)'] = '-'}\n",
    "      trainLogger:plot()\n",
    "      testLogger:plot()\n",
    "end"
   ]
  },
  {
   "cell_type": "code",
   "execution_count": 2,
   "metadata": {
    "collapsed": false
   },
   "outputs": [
    {
     "data": {
      "text/plain": [
       "<trainer> on testing Set:\t\n"
      ]
     },
     "execution_count": 2,
     "metadata": {},
     "output_type": "execute_result"
    },
    {
     "data": {
      "text/plain": [
       "<trainer> time to test 1 sample = 0.036996293067932ms\t\n",
       "ConfusionMatrix:\n",
       "[[     956       0       2       1       0      14       5       1       1       0]   97.551% \t[class: 1]\n",
       " [       0    1110       2       2       0       1       4       2      14       0]   97.797% \t[class: 2]\n",
       " [      10      10     910      15      11      10      13       8      40       5]   88.178% \t[class: 3]\n",
       " [       4       1      19     878       0      65       1      15      18       9]   86.931% \t[class: 4]\n",
       " [       0       3      10       1     902       3       7       4       7      45]   91.853% \t[class: 5]\n",
       " [      10       2       2      18       5     815      13       4      18       5]   91.368% \t[class: 6]\n",
       " [      12       3       8       1      10      33     888       2       1       0]   92.693% \t[class: 7]\n",
       " [       1       8      21       5       6       3       0     940       1      49]   90.909% \t[class: 8]\n",
       " [       8      10       6      21       9      57       9       7     832      15]   85.421% \t[class: 9]\n",
       " [      10       8       1       8      20       6       1      17       5     933]]  92.468% \t[class: 10]\n",
       " + average row correct: 91.516937613487% \n",
       " + average rowUcol correct (VOC measure): 84.467256069183% \n",
       " + global correct: 91.585048970618%\n",
       "{\n",
       "  valids : FloatTensor - size: 10\n",
       "  mat : LongTensor - size: 10x10\n",
       "  averageUnionValid : 0.84467256069183\n",
       "  _targ_idx : LongTensor - empty\n",
       "  averageValid : 0.91516937613487\n",
       "  classes : \n",
       "    {\n",
       "      1 : 1\n",
       "      2 : 2\n",
       "      3 : 3\n",
       "      "
      ]
     },
     "execution_count": 2,
     "metadata": {},
     "output_type": "execute_result"
    },
    {
     "data": {
      "text/plain": [
       "4 : 4\n",
       "      5 : 5\n",
       "      6 : 6\n",
       "      7 : 7\n",
       "      8 : 8\n",
       "      9 : 9\n",
       "      10 : 10\n",
       "    }\n",
       "  _prediction : FloatTensor - size: 10\n",
       "  _pred_idx : LongTensor - size: 1\n",
       "  nclasses : 10\n",
       "  _max : FloatTensor - size: 1\n",
       "  _target : FloatTensor - empty\n",
       "  unionvalids : FloatTensor - size: 10\n",
       "  totalValid : 0.91585048970618\n",
       "}\n",
       "\n"
      ]
     },
     "execution_count": 2,
     "metadata": {},
     "output_type": "execute_result"
    }
   ],
   "source": [
    "test(testData, true)"
   ]
  },
  {
   "cell_type": "code",
   "execution_count": null,
   "metadata": {
    "collapsed": true
   },
   "outputs": [],
   "source": []
  }
 ],
 "metadata": {
  "kernelspec": {
   "display_name": "iTorch",
   "language": "lua",
   "name": "itorch"
  },
  "language_info": {
   "name": "lua",
   "version": "5.1"
  }
 },
 "nbformat": 4,
 "nbformat_minor": 0
}
