{
 "cells": [
  {
   "cell_type": "code",
   "execution_count": 1,
   "metadata": {
    "collapsed": false
   },
   "outputs": [],
   "source": [
    "require 'torch'\n",
    "require 'cutorch'\n",
    "require 'nn'\n",
    "require 'nnx'\n",
    "require 'optim'\n",
    "require 'image'\n",
    "require 'dataset-mnist'\n",
    "require 'pl'\n",
    "require 'paths'"
   ]
  },
  {
   "cell_type": "code",
   "execution_count": 2,
   "metadata": {
    "collapsed": false
   },
   "outputs": [
    {
     "data": {
      "text/plain": [
       "\n"
      ]
     },
     "execution_count": 2,
     "metadata": {},
     "output_type": "execute_result"
    }
   ],
   "source": [
    "torch.setnumthreads(4)"
   ]
  },
  {
   "cell_type": "code",
   "execution_count": 2,
   "metadata": {
    "collapsed": false
   },
   "outputs": [],
   "source": [
    "classes = {'1','2','3','4','5','6','7','8','9','10'}\n",
    "geometry = {32,32}"
   ]
  },
  {
   "cell_type": "markdown",
   "metadata": {},
   "source": [
    "### Define model"
   ]
  },
  {
   "cell_type": "code",
   "execution_count": 3,
   "metadata": {
    "collapsed": false
   },
   "outputs": [
    {
     "data": {
      "text/plain": [
       "\n"
      ]
     },
     "execution_count": 3,
     "metadata": {},
     "output_type": "execute_result"
    }
   ],
   "source": [
    "torch.setdefaulttensortype(\"torch.FloatTensor\")"
   ]
  },
  {
   "cell_type": "code",
   "execution_count": 4,
   "metadata": {
    "collapsed": false
   },
   "outputs": [
    {
     "data": {
      "text/plain": [
       "true\t\n"
      ]
     },
     "execution_count": 4,
     "metadata": {},
     "output_type": "execute_result"
    }
   ],
   "source": [
    "require 'cunn'"
   ]
  },
  {
   "cell_type": "code",
   "execution_count": 5,
   "metadata": {
    "collapsed": true
   },
   "outputs": [],
   "source": [
    "model = nn.Sequential()\n",
    "model:add(nn.SpatialConvolutionMM(1, 32, 5, 5))\n",
    "model:add(nn.Tanh())\n",
    "model:add(nn.SpatialMaxPooling(3, 3, 3, 3))\n",
    "-- stage 2 : mean suppresion -> filter bank -> squashing -> max pooling\n",
    "model:add(nn.SpatialConvolutionMM(32, 64, 5, 5))\n",
    "model:add(nn.Tanh())\n",
    "model:add(nn.SpatialMaxPooling(2, 2, 2, 2))\n",
    "-- stage 3 : standard 2-layer MLP:\n",
    "model:add(nn.Reshape(64*2*2))\n",
    "model:add(nn.Linear(64*2*2, 200))\n",
    "model:add(nn.Tanh())\n",
    "model:add(nn.Linear(200, #classes))\n",
    "model:add(nn.LogSoftMax())"
   ]
  },
  {
   "cell_type": "code",
   "execution_count": 6,
   "metadata": {
    "collapsed": true
   },
   "outputs": [],
   "source": [
    "model = model:cuda()"
   ]
  },
  {
   "cell_type": "code",
   "execution_count": 7,
   "metadata": {
    "collapsed": false
   },
   "outputs": [],
   "source": [
    "parameters,gradParameters = model:getParameters()"
   ]
  },
  {
   "cell_type": "code",
   "execution_count": 8,
   "metadata": {
    "collapsed": true
   },
   "outputs": [],
   "source": [
    "criterion = nn.ClassNLLCriterion():cuda()"
   ]
  },
  {
   "cell_type": "code",
   "execution_count": 9,
   "metadata": {
    "collapsed": true
   },
   "outputs": [],
   "source": [
    "nbTrainingPatches = 60000\n",
    "nbTestingPatches = 10000"
   ]
  },
  {
   "cell_type": "code",
   "execution_count": 10,
   "metadata": {
    "collapsed": false
   },
   "outputs": [
    {
     "data": {
      "text/plain": [
       "<mnist> done\t\n"
      ]
     },
     "execution_count": 10,
     "metadata": {},
     "output_type": "execute_result"
    }
   ],
   "source": [
    "trainData = mnist.loadTrainSet(nbTrainingPatches, geometry)\n",
    "trainData:normalizeGlobal(mean, std)"
   ]
  },
  {
   "cell_type": "code",
   "execution_count": 25,
   "metadata": {
    "collapsed": false
   },
   "outputs": [
    {
     "data": {
      "image/png": "[encoded data removed]",
      "text/plain": [
       "Console does not support images"
      ]
     },
     "metadata": {
      "image/png": {
       "height": 32,
       "width": 32
      }
     },
     "output_type": "display_data"
    },
    {
     "data": {
      "text/plain": [
       "\n"
      ]
     },
     "execution_count": 25,
     "metadata": {},
     "output_type": "execute_result"
    }
   ],
   "source": [
    "itorch.image(trainData.data[2])"
   ]
  },
  {
   "cell_type": "code",
   "execution_count": 26,
   "metadata": {
    "collapsed": false
   },
   "outputs": [
    {
     "data": {
      "text/plain": [
       "1\t\n"
      ]
     },
     "execution_count": 26,
     "metadata": {},
     "output_type": "execute_result"
    }
   ],
   "source": [
    "trainData.labels[2]"
   ]
  },
  {
   "cell_type": "code",
   "execution_count": null,
   "metadata": {
    "collapsed": true
   },
   "outputs": [],
   "source": []
  },
  {
   "cell_type": "code",
   "execution_count": 11,
   "metadata": {
    "collapsed": false
   },
   "outputs": [
    {
     "data": {
      "text/plain": [
       "<mnist> done\t\n"
      ]
     },
     "execution_count": 11,
     "metadata": {},
     "output_type": "execute_result"
    }
   ],
   "source": [
    "testData = mnist.loadTestSet(nbTestingPatches, geometry)\n",
    "testData:normalizeGlobal(mean, std)"
   ]
  },
  {
   "cell_type": "code",
   "execution_count": 13,
   "metadata": {
    "collapsed": true
   },
   "outputs": [],
   "source": [
    "confusion = optim.ConfusionMatrix(classes)"
   ]
  },
  {
   "cell_type": "code",
   "execution_count": 14,
   "metadata": {
    "collapsed": true
   },
   "outputs": [],
   "source": [
    "trainLogger = optim.Logger(paths.concat('train.log'))\n",
    "testLogger = optim.Logger(paths.concat('test.log'))"
   ]
  },
  {
   "cell_type": "code",
   "execution_count": 15,
   "metadata": {
    "collapsed": true
   },
   "outputs": [],
   "source": [
    "batchSize = 100\n",
    "coefL1 = 0\n",
    "coefL2 = 0"
   ]
  },
  {
   "cell_type": "code",
   "execution_count": 16,
   "metadata": {
    "collapsed": true
   },
   "outputs": [],
   "source": [
    "-- training function\n",
    "function train(dataset)\n",
    "   -- epoch tracker\n",
    "   epoch = epoch or 1\n",
    "\n",
    "   -- local vars\n",
    "   local time = sys.clock()\n",
    "\n",
    "   -- do one epoch\n",
    "   print('<trainer> on training set:')\n",
    "   print(\"<trainer> online epoch # \" .. epoch .. ' [batchSize = ' .. batchSize .. ']')\n",
    "   for t = 1,dataset:size(),batchSize do\n",
    "      -- create mini batch\n",
    "      local inputs = torch.CudaTensor(batchSize,1,geometry[1],geometry[2])\n",
    "      local targets = torch.CudaTensor(batchSize)\n",
    "      local k = 1\n",
    "      for i = t,math.min(t+batchSize-1,dataset:size()) do\n",
    "         -- load new sample\n",
    "         local sample = dataset[i]\n",
    "         local input = sample[1]:clone()\n",
    "         local _,target = sample[2]:clone():max(1)\n",
    "         target = target:squeeze()\n",
    "         inputs[k] = input\n",
    "         targets[k] = target\n",
    "         k = k + 1\n",
    "      end\n",
    "\n",
    "      -- create closure to evaluate f(X) and df/dX\n",
    "      local feval = function(x)\n",
    "         -- just in case:\n",
    "         collectgarbage()\n",
    "\n",
    "         -- get new parameters\n",
    "         if x ~= parameters then\n",
    "            parameters:copy(x)\n",
    "         end\n",
    "\n",
    "         -- reset gradients\n",
    "         gradParameters:zero()\n",
    "\n",
    "         -- evaluate function for complete mini batch\n",
    "         local outputs = model:forward(inputs)\n",
    "         local f = criterion:forward(outputs, targets)\n",
    "\n",
    "         -- estimate df/dW\n",
    "         local df_do = criterion:backward(outputs, targets)\n",
    "         model:backward(inputs, df_do)\n",
    "\n",
    "         -- penalties (L1 and L2):\n",
    "         if coefL1 ~= 0 or coefL2 ~= 0 then\n",
    "            -- locals:\n",
    "            local norm,sign= torch.norm,torch.sign\n",
    "\n",
    "            -- Loss:\n",
    "            f = f + coefL1 * norm(parameters,1)\n",
    "            f = f + coefL2 * norm(parameters,2)^2/2\n",
    "\n",
    "            -- Gradients:\n",
    "            gradParameters:add( sign(parameters):mul(coefL1) + parameters:clone():mul(coefL2) )\n",
    "         end\n",
    "\n",
    "         -- update confusion\n",
    "         for i = 1,batchSize do\n",
    "            confusion:add(outputs[i], targets[i])\n",
    "         end\n",
    "\n",
    "         -- return f and df/dX\n",
    "         return f,gradParameters\n",
    "      end\n",
    "\n",
    "      -- optimize on current mini-batch\n",
    "\n",
    "\n",
    "     -- Perform SGD step:\n",
    "     sgdState = sgdState or {\n",
    "        learningRate = .05,\n",
    "        momentum = 0,\n",
    "        learningRateDecay = 5e-7\n",
    "     }\n",
    "     optim.sgd(feval, parameters, sgdState)\n",
    "\n",
    "     -- disp progress\n",
    "     xlua.progress(t, dataset:size())\n",
    "\n",
    "\n",
    "   end\n",
    "   \n",
    "   -- time taken\n",
    "   time = sys.clock() - time\n",
    "   time = time / dataset:size()\n",
    "   print(\"<trainer> time to learn 1 sample = \" .. (time*1000) .. 'ms')\n",
    "\n",
    "   -- print confusion matrix\n",
    "   print(confusion)\n",
    "   trainLogger:add{['% mean class accuracy (train set)'] = confusion.totalValid * 100}\n",
    "   confusion:zero()\n",
    "\n",
    "   -- save/log current net\n",
    "   local filename = paths.concat('mnist.net')\n",
    "   os.execute('mkdir -p ' .. sys.dirname(filename))\n",
    "   if paths.filep(filename) then\n",
    "      os.execute('mv ' .. filename .. ' ' .. filename .. '.old')\n",
    "   end\n",
    "   print('<trainer> saving network to '..filename)\n",
    "   -- torch.save(filename, model)\n",
    "\n",
    "   -- next epoch\n",
    "   epoch = epoch + 1\n",
    "end"
   ]
  },
  {
   "cell_type": "code",
   "execution_count": 17,
   "metadata": {
    "collapsed": true
   },
   "outputs": [],
   "source": [
    "\n",
    "-- test function\n",
    "function test(dataset)\n",
    "   -- local vars\n",
    "   local time = sys.clock()\n",
    "\n",
    "   -- test over given dataset\n",
    "   print('<trainer> on testing Set:')\n",
    "   for t = 1,dataset:size(),batchSize do\n",
    "      -- disp progress\n",
    "      xlua.progress(t, dataset:size())\n",
    "\n",
    "      -- create mini batch\n",
    "      local inputs = torch.CudaTensor(batchSize,1,geometry[1],geometry[2])\n",
    "      local targets = torch.CudaTensor(batchSize)\n",
    "      local k = 1\n",
    "      for i = t,math.min(t+batchSize-1,dataset:size()) do\n",
    "         -- load new sample\n",
    "         local sample = dataset[i]\n",
    "         local input = sample[1]:clone()\n",
    "         local _,target = sample[2]:clone():max(1)\n",
    "         target = target:squeeze()\n",
    "         inputs[k] = input\n",
    "         targets[k] = target\n",
    "         k = k + 1\n",
    "      end\n",
    "\n",
    "      -- test samples\n",
    "      local preds = model:forward(inputs)\n",
    "\n",
    "      -- confusion:\n",
    "      for i = 1,batchSize do\n",
    "         confusion:add(preds[i], targets[i])\n",
    "      end\n",
    "   end\n",
    "\n",
    "   -- timing\n",
    "   time = sys.clock() - time\n",
    "   time = time / dataset:size()\n",
    "   print(\"<trainer> time to test 1 sample = \" .. (time*1000) .. 'ms')\n",
    "\n",
    "   -- print confusion matrix\n",
    "   print(confusion)\n",
    "   testLogger:add{['% mean class accuracy (test set)'] = confusion.totalValid * 100}\n",
    "   confusion:zero()\n",
    "end\n",
    "\n",
    "----------------------------------------------------------------------\n"
   ]
  },
  {
   "cell_type": "code",
   "execution_count": null,
   "metadata": {
    "collapsed": false
   },
   "outputs": [
    {
     "data": {
      "text/plain": [
       "<trainer> on training set:\t\n"
      ]
     },
     "execution_count": 19,
     "metadata": {},
     "output_type": "execute_result"
    },
    {
     "data": {
      "text/plain": [
       "<trainer> online epoch # 2 [batchSize = 100]\t\n"
      ]
     },
     "execution_count": 19,
     "metadata": {},
     "output_type": "execute_result"
    },
    {
     "data": {
      "text/plain": [
       "Progress: 18701 / 60000\t\n"
      ]
     },
     "execution_count": 19,
     "metadata": {},
     "output_type": "execute_result"
    },
    {
     "data": {
      "text/plain": [
       "Progress: 47401 / 60000\t\n"
      ]
     },
     "execution_count": 19,
     "metadata": {},
     "output_type": "execute_result"
    },
    {
     "data": {
      "text/plain": [
       "<trainer> time to learn 1 sample = 0.52418931722641ms\t\n",
       "ConfusionMatrix:\n",
       "[[    5803       2      17       1       9      14      34       2      30      11]   97.974% \t[class: 1]\n",
       " [       1    6638      42      17       7       4       6      11      10       6]   98.457% \t[class: 2]\n",
       " [      22      23    5699      52      22       3      20      72      35      10]   95.653% \t[class: 3]\n",
       " [       7       3      79    5882       0      53       3      34      46      24]   95.939% \t[class: 4]\n",
       " [       9      10      13       1    5633       0      48       9      11     108]   96.422% \t[class: 5]\n",
       " [      17       8      10      49       8    5232      32       2      40      23]   96.514% \t[class: 6]\n",
       " [      27      11       5       0      21      38    5795       0      21       0]   97.922% \t[class: 7]\n",
       " [      12      15      60       8      28       3       0    6049       4      86]   96.552% \t[class: 8]\n",
       " [      14      18      19      53      18      33      29       4    5617      46]   96.001% \t[class: 9]\n",
       " [      29      14       8      46      79      19       5      75      24    5650]]  94.974% \t[class: 10]\n",
       " + average row correct: 96.64075255394% \n",
       " + average rowUcol correct (VOC measure): 93.519062399864% \n",
       " + global correct: 96.663333333333%\n",
       "{\n",
       "  valids : FloatTensor - size: 10\n",
       "  mat : LongTensor - size: 10x10\n",
       "  averageUnionValid : 0.93519062399864\n",
       "  _targ_idx : LongTensor - empty\n",
       "  averageValid : 0.9664075255394\n",
       "  classes : \n",
       "    {\n",
       "      1 : 1\n",
       "      2 : 2\n",
       "      3 : 3\n",
       "      4 : 4\n",
       "      5 : 5\n",
       "      6 : 6\n",
       "      7 : 7\n",
       "      8 : 8\n",
       "      9 : 9\n",
       "      10 : 10\n",
       "    }\n",
       "  _prediction : FloatTensor - size: 10\n",
       "  _pred_idx : LongTensor - size: 1\n",
       "  nclasses : 10\n",
       "  _max : FloatTensor - size: 1\n",
       "  _target : FloatTensor - empty\n",
       "  unionvalids : FloatTensor - size: 10\n",
       "  totalValid : 0.96663333333333\n",
       "}\n"
      ]
     },
     "execution_count": 19,
     "metadata": {},
     "output_type": "execute_result"
    },
    {
     "data": {
      "text/plain": [
       "<trainer> saving network to /home/saurabh/Desktop/COGS 260/Project 2/torch tutorial/Assignment 2/mnist.net\t\n",
       "<trainer> on testing Set:\t\n"
      ]
     },
     "execution_count": 19,
     "metadata": {},
     "output_type": "execute_result"
    },
    {
     "data": {
      "text/plain": [
       "<trainer> time to test 1 sample = 0.23723428249359ms\t\n",
       "ConfusionMatrix:\n",
       "[[     975       0       0       0       0       1       1       1       2       0]   99.490% \t[class: 1]\n",
       " [       0    1127       2       2       0       2       1       0       1       0]   99.295% \t[class: 2]\n",
       " [       8       1     990       8       2       0       1      15       5       2]   95.930% \t[class: 3]\n",
       " [       0       1       2     988       0       7       0       6       3       3]   97.822% \t[class: 4]\n",
       " [       1       0       1       0     953       0       7       1       2      17]   97.047% \t[class: 5]\n",
       " [       2       0       0       7       0     880       1       1       1       0]   98.655% \t[class: 6]\n",
       " [       9       3       1       0       7      13     921       0       4       0]   96.138% \t[class: 7]\n",
       " [       1       5      11       3       0       0       0     999       1       8]   97.179% \t[class: 8]\n",
       " [       5       0       2       5       3       4       2       3     943       7]   96.817% \t[class: 9]\n",
       " [       5       4       1       3       6       3       0       4       1     982]]  97.324% \t[class: 10]\n",
       " + average row correct: 97.569662928581% \n",
       " + average rowUcol correct (VOC measure): 95.249427556992% \n",
       " + global correct: 97.58%\n",
       "{\n",
       "  valids : FloatTensor - size: 10\n",
       "  mat : LongTensor - size: 10x10\n",
       "  averageUnionValid : 0.95249427556992\n",
       "  _targ_idx : LongTensor - empty\n",
       "  averageValid : 0.97569662928581\n",
       "  classes : \n",
       "    {\n",
       "      1 : 1\n",
       "      2 : 2\n",
       "      3 : 3\n",
       "      4 : 4\n",
       "      5 : 5\n",
       "      6 : 6\n",
       "      7 : 7\n",
       "      8 : 8\n",
       "      9 : 9\n",
       "      10 : 10\n",
       "    }\n",
       "  _prediction : FloatTensor - size: 10\n",
       "  _pred_idx : LongTensor - size: 1\n",
       "  nclasses : 10\n",
       "  _max : FloatTensor - size: 1\n",
       "  _target : FloatTensor - empty\n",
       "  unionvalids : FloatTensor - size: 10\n",
       "  totalValid : 0.9758\n",
       "}\n"
      ]
     },
     "execution_count": 19,
     "metadata": {},
     "output_type": "execute_result"
    },
    {
     "data": {
      "text/plain": [
       "<trainer> on training set:\t\n",
       "<trainer> online epoch # 3 [batchSize = 100]\t\n"
      ]
     },
     "execution_count": 19,
     "metadata": {},
     "output_type": "execute_result"
    },
    {
     "data": {
      "text/plain": [
       "Progress: 11301 / 60000\t\n"
      ]
     },
     "execution_count": 19,
     "metadata": {},
     "output_type": "execute_result"
    },
    {
     "data": {
      "text/plain": [
       "Progress: 40001 / 60000\t\n"
      ]
     },
     "execution_count": 19,
     "metadata": {},
     "output_type": "execute_result"
    },
    {
     "data": {
      "text/plain": [
       "<trainer> time to learn 1 sample = 0.52445978323619ms\t\n"
      ]
     },
     "execution_count": 19,
     "metadata": {},
     "output_type": "execute_result"
    },
    {
     "data": {
      "text/plain": [
       "ConfusionMatrix:\n",
       "[[    5841       3      11       1       3       9      27       0      19       9]   98.616% \t[class: 1]\n",
       " [       1    6663      33      11       5       2       4      13       6       4]   98.828% \t[class: 2]\n",
       " [      12      19    5785      38      12       1       6      56      21       8]   97.096% \t[class: 3]\n",
       " [       5       3      52    5968       0      36       1      24      23      19]   97.341% \t[class: 4]\n",
       " [       7      10       7       0    5708       0      29       9       7      65]   97.706% \t[class: 5]\n",
       " [      10       5       3      26       3    5305      26       2      28      13]   97.860% \t[class: 6]\n",
       " [      20       6       2       0      12      26    5838       0      14       0]   98.648% \t[class: 7]\n",
       " [       7      15      40       7      19       2       0    6126       1      48]   97.781% \t[class: 8]\n",
       " [      12      13      12      38      15      19      26       4    5674      38]   96.975% \t[class: 9]\n",
       " [      22      10       3      21      53      17       3      50      23    5747]]  96.604% \t[class: 10]\n",
       " + average row correct: 97.745683193207% \n",
       " + average rowUcol correct (VOC measure): 95.600054264069% \n",
       " + global correct: 97.758333333333%\n",
       "{\n",
       "  valids : FloatTensor - size: 10\n",
       "  mat : LongTensor - size: 10x10\n",
       "  averageUnionValid : 0.95600054264069\n",
       "  _targ_idx : LongTensor - empty\n",
       "  averageValid : 0.97745683193207\n",
       "  classes : \n",
       "    {\n",
       "      1 : 1\n",
       "      2 : 2\n",
       "      3 : 3\n",
       "      4 : 4\n",
       "      5 : 5\n",
       "      6 : 6\n",
       "      7 : 7\n",
       "      8 : 8\n",
       "      9 : 9\n",
       "      10 : 10\n",
       "    }\n",
       "  _prediction : FloatTensor - size: 10\n",
       "  _pred_idx : LongTensor - size: 1\n",
       "  nclasses : 10\n",
       "  _max : FloatTensor - size: 1\n",
       "  _target : FloatTensor - empty\n",
       "  unionvalids : FloatTensor - size: 10\n",
       "  totalValid : 0.97758333333333\n",
       "}\n"
      ]
     },
     "execution_count": 19,
     "metadata": {},
     "output_type": "execute_result"
    },
    {
     "data": {
      "text/plain": [
       "<trainer> saving network to /home/saurabh/Desktop/COGS 260/Project 2/torch tutorial/Assignment 2/mnist.net\t\n",
       "<trainer> on testing Set:\t\n"
      ]
     },
     "execution_count": 19,
     "metadata": {},
     "output_type": "execute_result"
    },
    {
     "data": {
      "text/plain": [
       "<trainer> time to test 1 sample = 0.23836920261383ms\t\n",
       "ConfusionMatrix:\n",
       "[[     974       0       2       0       0       1       1       1       1       0]   99.388% \t[class: 1]\n",
       " [       0    1128       2       3       0       2       0       0       0       0]   99.383% \t[class: 2]\n",
       " [       7       1    1002       6       1       0       1      11       2       1]   97.093% \t[class: 3]\n",
       " [       0       0       2     995       0       6       0       5       1       1]   98.515% \t[class: 4]\n",
       " [       1       0       1       0     961       0       6       1       1      11]   97.862% \t[class: 5]\n",
       " [       1       0       0       4       0     884       1       1       1       0]   99.103% \t[class: 6]\n",
       " [      11       3       1       1       3      15     922       0       2       0]   96.242% \t[class: 7]\n",
       " [       0       4       8       2       0       0       0    1009       0       5]   98.152% \t[class: 8]\n",
       " [       3       0       2       4       3       4       2       2     948       6]   97.331% \t[class: 9]\n",
       " [       5       3       1       4       4       4       0       4       1     983]]  97.423% \t[class: 10]\n",
       " + average row correct: 98.049123287201% \n",
       " + average rowUcol correct (VOC measure): 96.164105534554% \n",
       " + global correct: 98.06%\n",
       "{\n",
       "  valids : FloatTensor - size: 10\n",
       "  mat : LongTensor - size: 10x10\n",
       "  averageUnionValid : 0.96164105534554\n",
       "  _targ_idx : LongTensor - empty\n",
       "  averageValid : 0.98049123287201\n",
       "  classes : \n",
       "    {\n",
       "      1 : 1\n",
       "      2 : 2\n",
       "      3 : 3\n",
       "      4 : 4\n",
       "      5 : 5\n"
      ]
     },
     "execution_count": 19,
     "metadata": {},
     "output_type": "execute_result"
    },
    {
     "data": {
      "text/plain": [
       "      6 : 6\n",
       "      7 : 7\n",
       "      8 : 8\n",
       "      9 : 9\n",
       "      10 : 10\n",
       "    }\n",
       "  _prediction : FloatTensor - size: 10\n",
       "  _pred_idx : LongTensor - size: 1\n",
       "  nclasses : 10\n",
       "  _max : FloatTensor - size: 1\n",
       "  _target : FloatTensor - empty\n",
       "  unionvalids : FloatTensor - size: 10\n",
       "  totalValid : 0.9806\n",
       "}\n"
      ]
     },
     "execution_count": 19,
     "metadata": {},
     "output_type": "execute_result"
    },
    {
     "data": {
      "text/plain": [
       "<trainer> on training set:\t\n",
       "<trainer> online epoch # 4 [batchSize = 100]\t\n"
      ]
     },
     "execution_count": 19,
     "metadata": {},
     "output_type": "execute_result"
    },
    {
     "data": {
      "text/plain": [
       "Progress: 3901 / 60000\t\n"
      ]
     },
     "execution_count": 19,
     "metadata": {},
     "output_type": "execute_result"
    },
    {
     "data": {
      "text/plain": [
       "Progress: 32601 / 60000\t\n"
      ]
     },
     "execution_count": 19,
     "metadata": {},
     "output_type": "execute_result"
    },
    {
     "data": {
      "text/plain": [
       "<trainer> time to learn 1 sample = 0.52374596993128ms\t\n",
       "ConfusionMatrix:\n",
       "[[    5858       2      10       1       2       8      22       0      13       7]   98.903% \t[class: 1]\n",
       " [       1    6675      29       5       4       2       4      13       5       4]   99.006% \t[class: 2]\n",
       " [      10      12    5834      22       7       1       3      47      16       6]   97.919% \t[class: 3]\n",
       " [       3       1      35    6015       0      30       1      16      16      14]   98.108% \t[class: 4]\n",
       " [       4       8       7       0    5741       0      20       7       7      48]   98.271% \t[class: 5]\n",
       " [       7       5       3      15       2    5329      26       3      21      10]   98.303% \t[class: 6]\n",
       " [      17       5       1       0       8      19    5858       0      10       0]   98.986% \t[class: 7]\n",
       " [       7      15      36       4      15       2       0    6158       2      26]   98.292% \t[class: 8]\n",
       " [       7      11      11      23      13      11      21       3    5722      29]   97.795% \t[class: 9]\n",
       " [      17       7       3      16      39      13       3      42      20    5789]]  97.310% \t[class: 10]\n",
       " + average row correct: 98.289355039597% \n",
       " + average rowUcol correct (VOC measure): 96.641438007355% \n",
       " + global correct: 98.298333333333%\n",
       "{\n",
       "  valids : FloatTensor - size: 10\n",
       "  mat : LongTensor - size: 10x10\n",
       "  averageUnionValid : 0.96641438007355\n",
       "  _targ_idx : LongTensor - empty\n",
       "  averageValid : 0.98289355039597\n",
       "  classes : \n",
       "    {\n",
       "      1 : 1\n",
       "      2 : 2\n",
       "      3 : 3\n",
       "      4 : 4\n",
       "      5 : 5\n",
       "      6 : 6\n",
       "      7 : 7\n",
       "      8 : 8\n",
       "      9 : 9\n",
       "      10 : 10\n",
       "    }\n",
       "  _prediction : FloatTensor - size: 10\n",
       "  _pred_idx : LongTensor - size: 1\n",
       "  nclasses : 10\n",
       "  _max : FloatTensor - size: 1\n",
       "  _target : FloatTensor - empty\n",
       "  unionvalids : FloatTensor - size: 10\n",
       "  totalValid : 0.98298333333333\n",
       "}\n"
      ]
     },
     "execution_count": 19,
     "metadata": {},
     "output_type": "execute_result"
    },
    {
     "data": {
      "text/plain": [
       "<trainer> saving network to /home/saurabh/Desktop/COGS 260/Project 2/torch tutorial/Assignment 2/mnist.net\t\n",
       "<trainer> on testing Set:\t\n"
      ]
     },
     "execution_count": 19,
     "metadata": {},
     "output_type": "execute_result"
    },
    {
     "data": {
      "text/plain": [
       "Progress: 3001 / 10000\t\n"
      ]
     },
     "execution_count": 19,
     "metadata": {},
     "output_type": "execute_result"
    },
    {
     "data": {
      "text/plain": [
       "<trainer> time to test 1 sample = 0.2379086971283ms\t\n"
      ]
     },
     "execution_count": 19,
     "metadata": {},
     "output_type": "execute_result"
    },
    {
     "data": {
      "text/plain": [
       "ConfusionMatrix:\n",
       "[[     974       0       2       0       0       1       1       1       1       0]   99.388% \t[class: 1]\n",
       " [       0    1128       2       3       0       2       0       0       0       0]   99.383% \t[class: 2]\n",
       " [       5       1    1011       5       1       0       1       7       0       1]   97.965% \t[class: 3]\n",
       " [       0       0       2     998       0       4       0       4       1       1]   98.812% \t[class: 4]\n",
       " [       1       0       0       0     966       0       4       1       1       9]   98.371% \t[class: 5]\n",
       " [       1       0       0       4       0     885       1       1       0       0]   99.215% \t[class: 6]\n",
       " [       9       3       1       1       2      14     926       0       2       0]   96.660% \t[class: 7]\n",
       " [       0       3       6       1       0       0       0    1014       0       4]   98.638% \t[class: 8]\n",
       " [       1       0       2       3       3       3       2       1     954       5]   97.947% \t[class: 9]\n",
       " [       5       3       1       4       4       5       0       3       0     984]]  97.522% \t[class: 10]\n",
       " + average row correct: 98.390068411827% \n",
       " + average rowUcol correct (VOC measure): 96.823381781578% \n",
       " + global correct: 98.4%\n",
       "{\n",
       "  valids : FloatTensor - size: 10\n",
       "  mat : LongTensor - size: 10x10\n",
       "  averageUnionValid : 0.96823381781578\n",
       "  _targ_idx : LongTensor - empty\n",
       "  averageValid : 0.98390068411827\n",
       "  classes : \n",
       "    {\n",
       "      1 : 1\n",
       "      2 : 2\n",
       "      3 : 3\n",
       "      4 : 4\n",
       "      5 : 5\n",
       "      6 : 6\n",
       "      7 : 7\n",
       "      8 : 8\n",
       "      9 : 9\n",
       "      10 : 10\n",
       "    }\n",
       "  _prediction : FloatTensor - size: 10\n",
       "  _pred_idx : LongTensor - size: 1\n",
       "  nclasses : 10\n",
       "  _max : FloatTensor - size: 1\n",
       "  _target : FloatTensor - empty\n",
       "  unionvalids : FloatTensor - size: 10\n",
       "  totalValid : 0.984\n",
       "}\n"
      ]
     },
     "execution_count": 19,
     "metadata": {},
     "output_type": "execute_result"
    },
    {
     "data": {
      "text/plain": [
       "<trainer> on training set:\t\n",
       "<trainer> online epoch # 5 [batchSize = 100]\t\n"
      ]
     },
     "execution_count": 19,
     "metadata": {},
     "output_type": "execute_result"
    },
    {
     "data": {
      "text/plain": [
       "Progress: 25201 / 60000\t\n"
      ]
     },
     "execution_count": 19,
     "metadata": {},
     "output_type": "execute_result"
    },
    {
     "data": {
      "text/plain": [
       "Progress: 54001 / 60000\t\n"
      ]
     },
     "execution_count": 19,
     "metadata": {},
     "output_type": "execute_result"
    },
    {
     "data": {
      "text/plain": [
       "<trainer> time to learn 1 sample = 0.52227673133214ms\t\n"
      ]
     },
     "execution_count": 19,
     "metadata": {},
     "output_type": "execute_result"
    },
    {
     "data": {
      "text/plain": [
       "ConfusionMatrix:\n",
       "[[    5871       1       8       1       2       6      17       0      11       6]   99.122% \t[class: 1]\n",
       " [       1    6684      23       2       2       2       4      16       5       3]   99.140% \t[class: 2]\n",
       " [       5      12    5865      13       4       0       3      40      13       3]   98.439% \t[class: 3]\n",
       " [       2       1      25    6036       0      28       1      13      13      12]   98.450% \t[class: 4]\n",
       " [       4       5       6       0    5769       0      13       6       5      34]   98.750% \t[class: 5]\n",
       " [       4       3       3      10       2    5352      20       3      16       8]   98.727% \t[class: 6]\n",
       " [      16       5       2       0       8      16    5862       0       9       0]   99.054% \t[class: 7]\n",
       " [       6      15      27       2      10       2       0    6180       2      21]   98.643% \t[class: 8]\n",
       " [       5       9      12      17      11       9      15       3    5746      24]   98.205% \t[class: 9]\n",
       " [      15       4       2      11      28      11       2      35      15    5826]]  97.932% \t[class: 10]\n",
       " + average row correct: 98.646381497383% \n",
       " + average rowUcol correct (VOC measure): 97.330932021141% \n",
       " + global correct: 98.651666666667%\n",
       "{\n",
       "  valids : FloatTensor - size: 10\n",
       "  mat : LongTensor - size: 10x10\n",
       "  averageUnionValid : 0.97330932021141\n",
       "  _targ_idx : LongTensor - empty\n",
       "  averageValid : 0.98646381497383\n",
       "  classes : \n",
       "    {\n",
       "      1 : 1\n",
       "      2 : 2\n",
       "      3 : 3\n",
       "      4 : 4\n",
       "      5 : 5\n",
       "      6 : 6\n",
       "      7 : 7\n",
       "      8 : 8\n",
       "      9 : 9\n",
       "      10 : 10\n",
       "    }\n",
       "  _prediction : FloatTensor - size: 10\n",
       "  _pred_idx : LongTensor - size: 1\n",
       "  nclasses : 10\n",
       "  _max : FloatTensor - size: 1\n",
       "  _target : FloatTensor - empty\n",
       "  unionvalids : FloatTensor - size: 10\n",
       "  totalValid : 0.98651666666667\n",
       "}\n"
      ]
     },
     "execution_count": 19,
     "metadata": {},
     "output_type": "execute_result"
    },
    {
     "data": {
      "text/plain": [
       "<trainer> saving network to /home/saurabh/Desktop/COGS 260/Project 2/torch tutorial/Assignment 2/mnist.net\t\n",
       "<trainer> on testing Set:\t\n"
      ]
     },
     "execution_count": 19,
     "metadata": {},
     "output_type": "execute_result"
    },
    {
     "data": {
      "text/plain": [
       "<trainer> time to test 1 sample = 0.23735589981079ms\t\n",
       "ConfusionMatrix:\n",
       "[[     974       0       2       0       0       1       0       1       2       0]   99.388% \t[class: 1]\n",
       " [       0    1129       2       2       0       2       0       0       0       0]   99.471% \t[class: 2]\n",
       " [       4       1    1013       3       1       0       1       8       0       1]   98.159% \t[class: 3]\n",
       " [       0       0       2    1000       0       3       0       4       1       0]   99.010% \t[class: 4]\n",
       " [       1       0       0       0     971       0       4       0       1       5]   98.880% \t[class: 5]\n",
       " [       1       0       0       4       0     885       1       1       0       0]   99.215% \t[class: 6]\n",
       " [       8       3       0       1       2      11     931       0       2       0]   97.182% \t[class: 7]\n",
       " [       0       3       5       1       0       0       0    1015       0       4]   98.735% \t[class: 8]\n",
       " [       1       0       2       4       3       4       1       1     953       5]   97.844% \t[class: 9]\n",
       " [       5       3       1       3       4       6       0       3       0     984]]  97.522% \t[class: 10]\n",
       " + average row correct: 98.540630340576% \n",
       " + average rowUcol correct (VOC measure): 97.115906476974% \n",
       " + global correct: 98.55%\n",
       "{\n",
       "  valids : FloatTensor - size: 10\n",
       "  mat : LongTensor - size: 10x10\n",
       "  averageUnionValid : 0.97115906476974\n",
       "  _targ_idx : LongTensor - empty\n",
       "  averageValid : 0.98540630340576\n",
       "  classes : \n",
       "    {\n",
       "      1 : 1\n",
       "      2 : 2\n",
       "      3 : 3\n"
      ]
     },
     "execution_count": 19,
     "metadata": {},
     "output_type": "execute_result"
    },
    {
     "data": {
      "text/plain": [
       "      4 : 4\n",
       "      5 : 5\n",
       "      6 : 6\n",
       "      7 : 7\n",
       "      8 : 8\n",
       "      9 : 9\n",
       "      10 : 10\n",
       "    }\n",
       "  _prediction : FloatTensor - size: 10\n",
       "  _pred_idx : LongTensor - size: 1\n",
       "  nclasses : 10\n",
       "  _max : FloatTensor - size: 1\n",
       "  _target : FloatTensor - empty\n",
       "  unionvalids : FloatTensor - size: 10\n",
       "  totalValid : 0.9855\n",
       "}\n"
      ]
     },
     "execution_count": 19,
     "metadata": {},
     "output_type": "execute_result"
    },
    {
     "data": {
      "text/plain": [
       "<trainer> on training set:\t\n",
       "<trainer> online epoch # 6 [batchSize = 100]\t\n"
      ]
     },
     "execution_count": 19,
     "metadata": {},
     "output_type": "execute_result"
    },
    {
     "data": {
      "text/plain": [
       "Progress: 18001 / 60000\t\n"
      ]
     },
     "execution_count": 19,
     "metadata": {},
     "output_type": "execute_result"
    },
    {
     "data": {
      "text/plain": [
       "Progress: 46801 / 60000\t\n"
      ]
     },
     "execution_count": 19,
     "metadata": {},
     "output_type": "execute_result"
    },
    {
     "data": {
      "text/plain": [
       "<trainer> time to learn 1 sample = 0.52205413182576ms\t\n",
       "ConfusionMatrix:\n",
       "[[    5882       1       6       1       2       2      14       0       9       6]   99.308% \t[class: 1]\n",
       " [       1    6688      22       1       2       1       5      15       5       2]   99.199% \t[class: 2]\n",
       " [       4      10    5886      11       2       0       3      35       4       3]   98.792% \t[class: 3]\n",
       " [       2       1      20    6060       0      22       1       8       9       8]   98.842% \t[class: 4]\n",
       " [       4       4       5       0    5785       0      11       4       4      25]   99.024% \t[class: 5]\n",
       " [       3       2       3      10       2    5362      18       3      10       8]   98.912% \t[class: 6]\n",
       " [      12       4       2       0       7      14    5872       0       7       0]   99.223% \t[class: 7]\n",
       " [       4      14      20       2       7       1       0    6199       2      16]   98.947% \t[class: 8]\n",
       " [       4       7      10      13      11       6      12       3    5764      21]   98.513% \t[class: 9]\n",
       " [      12       3       1       9      23       9       2      30      13    5847]]  98.285% \t[class: 10]\n",
       " + average row correct: 98.904400467873% \n",
       " + average rowUcol correct (VOC measure): 97.835037112236% \n",
       " + global correct: 98.908333333333%\n",
       "{\n",
       "  valids : FloatTensor - size: 10\n",
       "  mat : LongTensor - size: 10x10\n",
       " "
      ]
     },
     "execution_count": 19,
     "metadata": {},
     "output_type": "execute_result"
    },
    {
     "data": {
      "text/plain": [
       " averageUnionValid : 0.97835037112236\n",
       "  _targ_idx : LongTensor - empty\n",
       "  averageValid : 0.98904400467873\n",
       "  classes : \n",
       "    {\n",
       "      1 : 1\n",
       "      2 : 2\n",
       "      3 : 3\n",
       "      4 : 4\n",
       "      5 : 5\n",
       "      6 : 6\n",
       "      7 : 7\n",
       "      8 : 8\n",
       "      9 : 9\n",
       "      10 : 10\n",
       "    }\n",
       "  _prediction : FloatTensor - size: 10\n",
       "  _pred_idx : LongTensor - size: 1\n",
       "  nclasses : 10\n",
       "  _max : FloatTensor - size: 1\n",
       "  _target : FloatTensor - empty\n",
       "  unionvalids : FloatTensor - size: 10\n",
       "  totalValid : 0.98908333333333\n",
       "}\n"
      ]
     },
     "execution_count": 19,
     "metadata": {},
     "output_type": "execute_result"
    },
    {
     "data": {
      "text/plain": [
       "<trainer> saving network to /home/saurabh/Desktop/COGS 260/Project 2/torch tutorial/Assignment 2/mnist.net\t\n",
       "<trainer> on testing Set:\t\n"
      ]
     },
     "execution_count": 19,
     "metadata": {},
     "output_type": "execute_result"
    },
    {
     "data": {
      "text/plain": [
       "<trainer> time to test 1 sample = 0.23767740726471ms\t\n",
       "ConfusionMatrix:\n",
       "[[     975       0       2       0       0       1       0       1       1       0]   99.490% \t[class: 1]\n",
       " [       0    1129       1       2       0       3       0       0       0       0]   99.471% \t[class: 2]\n",
       " [       4       1    1016       2       1       0       0       7       0       1]   98.450% \t[class: 3]\n",
       " [       0       0       3    1000       0       3       0       3       1       0]   99.010% \t[class: 4]\n",
       " [       1       0       0       0     970       0       4       1       1       5]   98.778% \t[class: 5]\n",
       " [       1       0       0       4       0     885       1       1       0       0]   99.215% \t[class: 6]\n",
       " [       8       3       0       1       2      10     932       0       2       0]   97.286% \t[class: 7]\n",
       " [       0       3       5       1       0       0       0    1016       0       3]   98.833% \t[class: 8]\n",
       " [       1       0       2       4       3       4       1       1     952       6]   97.741% \t[class: 9]\n",
       " [       4       2       0       3       3       6       0       1       0     990]]  98.117% \t[class: 10]\n",
       " + average row correct: 98.639084100723% \n",
       " + average rowUcol correct (VOC measure): 97.307710647583% \n",
       " + global correct: 98.65%\n",
       "{\n",
       "  valids : FloatTensor - size: 10\n",
       "  mat : LongTensor - size: 10x10\n",
       "  averageUnionValid : 0.97307710647583\n",
       "  _targ_idx : LongTensor - empty\n",
       "  averageValid : 0.98639084100723\n",
       "  classes : \n",
       "    {\n",
       "      1 : 1\n",
       "      2 : 2\n",
       "      3 : 3\n",
       "      4 : 4\n",
       "      5 : 5\n",
       "      6 : 6\n",
       "      7 : 7\n",
       "      8 : 8\n",
       "      9 : 9\n",
       "      10 : 10\n",
       "    }\n",
       "  _prediction : FloatTensor - size: 10\n",
       "  _pred_idx : LongTensor - size: 1\n",
       "  nclasses : 10\n",
       "  _max : FloatTensor - size: 1\n",
       "  _target : FloatTensor - empty\n",
       "  unionvalids : FloatTensor - size: 10\n",
       "  totalValid : 0.9865\n",
       "}\n"
      ]
     },
     "execution_count": 19,
     "metadata": {},
     "output_type": "execute_result"
    },
    {
     "data": {
      "text/plain": [
       "<trainer> on training set:\t\n",
       "<trainer> online epoch # 7 [batchSize = 100]\t\n"
      ]
     },
     "execution_count": 19,
     "metadata": {},
     "output_type": "execute_result"
    },
    {
     "data": {
      "text/plain": [
       "Progress: 10801 / 60000\t\n"
      ]
     },
     "execution_count": 19,
     "metadata": {},
     "output_type": "execute_result"
    },
    {
     "data": {
      "text/plain": [
       "Progress: 39501 / 60000\t\n"
      ]
     },
     "execution_count": 19,
     "metadata": {},
     "output_type": "execute_result"
    },
    {
     "data": {
      "text/plain": [
       "<trainer> time to learn 1 sample = 0.52292669614156ms\t\n",
       "ConfusionMatrix:\n",
       "[[    5888       1       6       1       2       2      13       0       7       3]   99.409% \t[class: 1]\n",
       " [       1    6700      14       1       2       1       3      14       4       2]   99.377% \t[class: 2]\n",
       " [       4       8    5898       9       2       0       2      28       4       3]   98.993% \t[class: 3]\n",
       " [       2       0      17    6070       0      19       1       8       6       8]   99.005% \t[class: 4]\n",
       " [       4       3       4       0    5796       0       8       3       3      21]   99.213% \t[class: 5]\n",
       " [       3       2       2       7       0    5369      17       5      10       6]   99.041% \t[class: 6]\n",
       " [       9       4       2       0       5       8    5881       0       9       0]   99.375% \t[class: 7]\n",
       " [       3      12      18       1       7       1       0    6208       2      13]   99.090% \t[class: 8]\n",
       " [       3       8       8      11       9       5      10       2    5777      18]   98.735% \t[class: 9]\n",
       " [      11       3       1       6      21       8       2      25      11    5861]]  98.521% \t[class: 10]\n",
       " + average row correct: 99.075849056244% \n",
       " + average rowUcol correct (VOC measure): 98.1720662117% \n",
       " + global correct: 99.08%\n",
       "{\n",
       "  valids : FloatTensor - size: 10\n",
       "  mat : LongTensor - size: 10x10\n",
       "  averageUnionValid : 0.981720662117\n",
       "  _targ_idx : LongTensor - empty\n",
       "  averageValid : 0.99075849056244\n",
       "  classes : \n",
       "    {\n",
       "      1 : 1\n",
       "      2 : 2\n",
       "      3 : 3\n",
       "      4 : 4\n",
       "      5 : 5\n",
       "      6 : 6\n",
       "      7 : 7\n",
       "      8 : 8\n",
       "      9 : 9\n",
       "      10 : 10\n",
       "    }\n",
       "  _prediction : FloatTensor - size: 10\n",
       "  _pred_idx : LongTensor - size: 1\n",
       "  nclasses : 10\n",
       "  _max : FloatTensor - size: 1\n",
       "  _target : FloatTensor - empty\n",
       "  unionvalids : FloatTensor - size: 10\n",
       "  totalValid : 0.9908\n",
       "}\n"
      ]
     },
     "execution_count": 19,
     "metadata": {},
     "output_type": "execute_result"
    },
    {
     "data": {
      "text/plain": [
       "<trainer> saving network to /home/saurabh/Desktop/COGS 260/Project 2/torch tutorial/Assignment 2/mnist.net\t\n",
       "<trainer> on testing Set:\t\n"
      ]
     },
     "execution_count": 19,
     "metadata": {},
     "output_type": "execute_result"
    },
    {
     "data": {
      "text/plain": [
       "<trainer> time to test 1 sample = 0.2367760181427ms\t\n",
       "ConfusionMatrix:\n",
       "[[     974       0       2       0       0       1       1       1       1       0]   99.388% \t[class: 1]\n",
       " [       0    1130       1       1       0       3       0       0       0       0]   99.559% \t[class: 2]\n",
       " [       3       1    1020       0       1       0       0       6       0       1]   98.837% \t[class: 3]\n",
       " [       0       0       3    1000       0       3       0       3       1       0]   99.010% \t[class: 4]\n",
       " [       0       0       0       0     971       0       3       1       1       6]   98.880% \t[class: 5]\n",
       " [       1       0       0       4       0     885       1       1       0       0]   99.215% \t[class: 6]\n",
       " [       8       3       0       1       2       9     934       0       1       0]   97.495% \t[class: 7]\n",
       " [       0       3       4       1       0       0       0    1018       0       2]   99.027% \t[class: 8]\n",
       " [       2       0       2       4       3       4       1       1     951       6]   97.639% \t[class: 9]\n",
       " [       4       1       0       1       3       7       0       2       0     991]]  98.216% \t[class: 10]\n",
       " + average row correct: 98.726609945297% \n",
       " + average rowUcol correct (VOC measure): 97.47961461544% \n",
       " + global correct: 98.74%\n",
       "{\n",
       "  valids : FloatTensor - size: 10\n",
       "  mat : LongTensor - size: 10x10\n",
       "  averageUnionValid : 0.9747961461544\n",
       "  _targ_idx : LongTensor - empty\n",
       "  averageValid : 0.98726609945297\n",
       "  classes : \n",
       "    {\n",
       "  "
      ]
     },
     "execution_count": 19,
     "metadata": {},
     "output_type": "execute_result"
    },
    {
     "data": {
      "text/plain": [
       "    1 : 1\n",
       "      2 : 2\n",
       "      3 : 3\n",
       "      4 : 4\n",
       "      5 : 5\n",
       "      6 : 6\n",
       "      7 : 7\n",
       "      8 : 8\n",
       "      9 : 9\n",
       "      10 : 10\n",
       "    }\n",
       "  _prediction : FloatTensor - size: 10\n",
       "  _pred_idx : LongTensor - size: 1\n",
       "  nclasses : 10\n",
       "  _max : FloatTensor - size: 1\n",
       "  _target : FloatTensor - empty\n",
       "  unionvalids : FloatTensor - size: 10\n",
       "  totalValid : 0.9874\n",
       "}\n"
      ]
     },
     "execution_count": 19,
     "metadata": {},
     "output_type": "execute_result"
    },
    {
     "data": {
      "text/plain": [
       "<trainer> on training set:\t\n",
       "<trainer> online epoch # 8 [batchSize = 100]\t\n"
      ]
     },
     "execution_count": 19,
     "metadata": {},
     "output_type": "execute_result"
    },
    {
     "data": {
      "text/plain": [
       "Progress: 3501 / 60000\t\n"
      ]
     },
     "execution_count": 19,
     "metadata": {},
     "output_type": "execute_result"
    },
    {
     "data": {
      "text/plain": [
       "Progress: 32301 / 60000\t\n"
      ]
     },
     "execution_count": 19,
     "metadata": {},
     "output_type": "execute_result"
    },
    {
     "data": {
      "text/plain": [
       "<trainer> time to learn 1 sample = 0.52244659662247ms\t\n",
       "ConfusionMatrix:\n",
       "[[    5898       1       3       0       1       1      11       0       5       3]   99.578% \t[class: 1]\n",
       " [       1    6704      12       1       2       1       3      12       4       2]   99.436% \t[class: 2]\n",
       " [       3       7    5912       6       2       0       2      21       2       3]   99.228% \t[class: 3]\n",
       " [       2       0      15    6074       0      17       1       8       6       8]   99.070% \t[class: 4]\n",
       " [       4       3       4       0    5800       0       7       2       3      19]   99.281% \t[class: 5]\n",
       " [       3       2       1       7       0    5377      16       5       6       4]   99.188% \t[class: 6]\n",
       " [       8       4       2       0       4       6    5886       0       8       0]   99.459% \t[class: 7]\n",
       " [       3      11      16       1       5       1       0    6214       2      12]   99.186% \t[class: 8]\n",
       " [       3       7       6       9       8       6       7       1    5789      15]   98.940% \t[class: 9]\n",
       " [      10       3       1       5      16       8       2      20      10    5874]]  98.739% \t[class: 10]\n",
       " + average row correct: 99.210678935051% \n",
       " + average rowUcol correct (VOC measure): 98.435499668121% \n",
       " + global correct: 99.213333333333%\n",
       "{\n",
       "  valids : FloatTensor - size: 10\n",
       "  mat : LongTensor - size: 10x10\n",
       "  averageUnionValid : 0.98435499668121\n",
       "  _targ_idx : LongTensor - empty\n",
       "  averageValid : 0.99210678935051\n",
       "  classes : \n",
       "    {\n",
       "      1 : 1\n",
       "      2 : 2\n",
       "      3 : 3\n",
       "      4 : 4\n",
       "      5 : 5\n",
       "      6 : 6\n",
       "      7 : 7\n",
       "      8 : 8\n",
       "      9 : 9\n",
       "      10 : 10\n",
       "    }\n",
       "  _prediction : FloatTensor - size: 10\n",
       "  _pred_idx : LongTensor - size: 1\n",
       "  nclasses : 10\n",
       "  _max : FloatTensor - size: 1\n",
       "  _target : FloatTensor - empty\n",
       "  unionvalids : FloatTensor - size: 10\n",
       "  totalValid : 0.99213333333333\n",
       "}\n"
      ]
     },
     "execution_count": 19,
     "metadata": {},
     "output_type": "execute_result"
    },
    {
     "data": {
      "text/plain": [
       "<trainer> saving network to /home/saurabh/Desktop/COGS 260/Project 2/torch tutorial/Assignment 2/mnist.net\t\n",
       "<trainer> on testing Set:\t\n"
      ]
     },
     "execution_count": 19,
     "metadata": {},
     "output_type": "execute_result"
    },
    {
     "data": {
      "text/plain": [
       "Progress: 2501 / 10000\t\n"
      ]
     },
     "execution_count": 19,
     "metadata": {},
     "output_type": "execute_result"
    },
    {
     "data": {
      "text/plain": [
       "<trainer> time to test 1 sample = 0.23708388805389ms\t\n",
       "ConfusionMatrix:\n",
       "[[     975       0       2       0       0       0       1       1       1       0]   99.490% \t[class: 1]\n",
       " [       0    1131       1       1       0       2       0       0       0       0]   99.648% \t[class: 2]\n",
       " [       2       2    1021       0       1       0       0       5       0       1]   98.934% \t[class: 3]\n",
       " [       0       0       4     998       0       4       0       3       1       0]   98.812% \t[class: 4]\n",
       " [       0       1       0       0     972       0       2       1       1       5]   98.982% \t[class: 5]\n",
       " [       1       0       0       4       0     885       1       1       0       0]   99.215% \t[class: 6]\n",
       " [       8       3       0       1       2       8     935       0       1       0]   97.599% \t[class: 7]\n",
       " [       0       3       4       0       0       0       0    1018       0       3]   99.027% \t[class: 8]\n",
       " [       2       0       2       4       3       4       1       1     952       5]   97.741% \t[class: 9]\n",
       " [       1       0       0       1       3       7       0       2       1     994]]  98.513% \t[class: 10]\n",
       " + average row correct: 98.796133995056% \n",
       " + average rowUcol correct (VOC measure): 97.61923789978% \n",
       " + global correct: 98.81%\n",
       "{\n",
       "  valids : FloatTensor - size: 10\n",
       "  mat : LongTensor - size: 10x10\n",
       "  averageUnionValid : 0.9761923789978\n",
       "  _targ_idx : LongTensor - empty\n",
       "  averageValid : 0.98796133995056\n",
       "  classes : \n",
       "    {\n",
       "      1 : 1\n",
       "      2 : 2\n",
       "      3 : 3\n",
       "      4 : 4\n",
       "      5 : 5\n",
       "      6 : 6\n",
       "      7 : 7\n",
       "      8 : 8\n",
       "      9 : 9\n",
       "      10 : 10\n",
       "    }\n",
       "  _prediction : FloatTensor - size: 10\n",
       "  _pred_idx : LongTensor - size: 1\n",
       "  nclasses : 10\n",
       "  _max : FloatTensor - size: 1\n",
       "  _target : FloatTensor - empty\n",
       "  unionvalids : FloatTensor - size: 10\n",
       "  totalValid : 0.9881\n",
       "}\n"
      ]
     },
     "execution_count": 19,
     "metadata": {},
     "output_type": "execute_result"
    },
    {
     "data": {
      "text/plain": [
       "<trainer> on training set:\t\n",
       "<trainer> online epoch # 9 [batchSize = 100]\t\n"
      ]
     },
     "execution_count": 19,
     "metadata": {},
     "output_type": "execute_result"
    },
    {
     "data": {
      "text/plain": [
       "Progress: 25001 / 60000\t\n"
      ]
     },
     "execution_count": 19,
     "metadata": {},
     "output_type": "execute_result"
    },
    {
     "data": {
      "text/plain": [
       "Progress: 53701 / 60000\t\n"
      ]
     },
     "execution_count": 19,
     "metadata": {},
     "output_type": "execute_result"
    },
    {
     "data": {
      "text/plain": [
       "<trainer> time to learn 1 sample = 0.52251796722412ms\t\n"
      ]
     },
     "execution_count": 19,
     "metadata": {},
     "output_type": "execute_result"
    },
    {
     "data": {
      "text/plain": [
       "ConfusionMatrix:\n",
       "[[    5902       1       2       0       1       0      10       0       4       3]   99.645% \t[class: 1]\n",
       " [       1    6710      10       0       1       1       2      12       3       2]   99.525% \t[class: 2]\n",
       " [       2       7    5919       4       2       0       2      17       2       3]   99.345% \t[class: 3]\n",
       " [       1       0      11    6088       0      14       1       3       6       7]   99.299% \t[class: 4]\n",
       " [       4       3       4       0    5803       0       6       2       2      18]   99.332% \t[class: 5]\n",
       " [       2       2       1       6       0    5385      13       2       6       4]   99.336% \t[class: 6]\n",
       " [       8       3       2       0       4       5    5888       0       8       0]   99.493% \t[class: 7]\n",
       " [       1      10      16       0       5       1       0    6221       2       9]   99.298% \t[class: 8]\n",
       " [       3       4       5       7       8       5       6       1    5799      13]   99.111% \t[class: 9]\n",
       " [       8       3       0       4      10       7       0      17       5    5895]]  99.092% \t[class: 10]\n",
       " + average row correct: 99.347751736641% \n",
       " + average rowUcol correct (VOC measure): 98.705393075943% \n",
       " + global correct: 99.35%\n",
       "{\n",
       "  valids : FloatTensor - size: 10\n",
       "  mat : LongTensor - size: 10x10\n",
       "  averageUnionValid : 0.98705393075943\n",
       "  _targ_idx : LongTensor - empty\n",
       "  averageValid : 0.99347751736641\n",
       "  classes : \n",
       "    {\n",
       "      1 : 1\n",
       "      2 : 2\n",
       "      3 : 3\n",
       "      4 : 4\n",
       "      5 : 5\n",
       "      6 : 6\n",
       "      7 : 7\n",
       "      8 : 8\n",
       "      9 : 9\n",
       "      10 : 10\n",
       "    }\n",
       "  _prediction : FloatTensor - size: 10\n",
       "  _pred_idx : LongTensor - size: 1\n",
       "  nclasses : 10\n",
       "  _max : FloatTensor - size: 1\n",
       "  _target : FloatTensor - empty\n",
       "  unionvalids : FloatTensor - size: 10\n",
       "  totalValid : 0.9935\n",
       "}\n"
      ]
     },
     "execution_count": 19,
     "metadata": {},
     "output_type": "execute_result"
    },
    {
     "data": {
      "text/plain": [
       "<trainer> saving network to /home/saurabh/Desktop/COGS 260/Project 2/torch tutorial/Assignment 2/mnist.net\t\n",
       "<trainer> on testing Set:\t\n"
      ]
     },
     "execution_count": 19,
     "metadata": {},
     "output_type": "execute_result"
    },
    {
     "data": {
      "text/plain": [
       "<trainer> time to test 1 sample = 0.23712458610535ms\t\n"
      ]
     },
     "execution_count": 19,
     "metadata": {},
     "output_type": "execute_result"
    },
    {
     "data": {
      "text/plain": [
       "ConfusionMatrix:\n",
       "[[     975       0       2       0       0       0       1       1       1       0]   99.490% \t[class: 1]\n",
       " [       0    1131       1       1       0       2       0       0       0       0]   99.648% \t[class: 2]\n",
       " [       2       2    1022       0       1       0       0       5       0       0]   99.031% \t[class: 3]\n",
       " [       0       0       4     999       0       4       0       2       1       0]   98.911% \t[class: 4]\n",
       " [       0       1       0       0     971       0       2       1       1       6]   98.880% \t[class: 5]\n",
       " [       1       0       0       4       0     885       1       1       0       0]   99.215% \t[class: 6]\n",
       " [       8       3       0       1       1       8     936       0       1       0]   97.704% \t[class: 7]\n",
       " [       0       3       4       0       0       0       0    1018       0       3]   99.027% \t[class: 8]\n",
       " [       2       0       2       4       3       4       1       1     952       5]   97.741% \t[class: 9]\n",
       " [       1       0       0       2       3       7       0       3       1     992]]  98.315% \t[class: 10]\n",
       " + average row correct: 98.796157836914% \n",
       " + average rowUcol correct (VOC measure): 97.619668245316% \n",
       " + global correct: 98.81%\n",
       "{\n",
       "  valids : FloatTensor - size: 10\n",
       "  mat : LongTensor - size: 10x10\n",
       "  averageUnionValid : 0.97619668245316\n",
       "  _targ_idx : LongTensor - empty\n",
       "  averageValid : 0.98796157836914\n",
       "  classes : \n",
       "    {\n",
       "      1 : 1\n",
       "      2 : 2\n",
       "      3 : 3\n",
       "      4 : 4\n",
       "      5 : 5\n",
       "      6 : 6\n",
       "      7 : 7\n",
       "      8 : 8\n",
       "      9 : 9\n",
       "      10 : 10\n",
       "    }\n",
       "  _prediction : FloatTensor - size: 10\n",
       "  _pred_idx : LongTensor - size: 1\n",
       "  nclasses : 10\n",
       "  _max : FloatTensor - size: 1\n",
       "  _target : FloatTensor - empty\n",
       "  unionvalids : FloatTensor - size: 10\n",
       "  totalValid : 0.9881\n",
       "}\n"
      ]
     },
     "execution_count": 19,
     "metadata": {},
     "output_type": "execute_result"
    },
    {
     "data": {
      "text/plain": [
       "<trainer> on training set:\t\n",
       "<trainer> online epoch # 10 [batchSize = 100]\t\n"
      ]
     },
     "execution_count": 19,
     "metadata": {},
     "output_type": "execute_result"
    },
    {
     "data": {
      "text/plain": [
       "Progress: 17701 / 60000\t\n"
      ]
     },
     "execution_count": 19,
     "metadata": {},
     "output_type": "execute_result"
    },
    {
     "data": {
      "text/plain": [
       "Progress: 46401 / 60000\t\n"
      ]
     },
     "execution_count": 19,
     "metadata": {},
     "output_type": "execute_result"
    },
    {
     "data": {
      "text/plain": [
       "<trainer> time to learn 1 sample = 0.52272956768672ms\t\n",
       "ConfusionMatrix:\n",
       "[[    5907       1       1       0       1       0       7       0       3       3]   99.730% \t[class: 1]\n",
       " [       1    6712       9       0       1       1       2      13       2       1]   99.555% \t[class: 2]\n",
       " [       2       6    5923       3       2       0       1      16       2       3]   99.413% \t[class: 3]\n",
       " [       1       0      10    6094       0      13       1       2       4       6]   99.397% \t[class: 4]\n",
       " [       3       3       3       0    5809       0       4       2       2      16]   99.435% \t[class: 5]\n",
       " [       2       2       0       5       0    5392      12       1       4       3]   99.465% \t[class: 6]\n",
       " [       7       3       2       0       4       3    5893       0       6       0]   99.578% \t[class: 7]\n",
       " [       1      10      16       0       5       0       0    6224       2       7]   99.346% \t[class: 8]\n",
       " [       3       4       4       7       5       5       4       0    5808      11]   99.265% \t[class: 9]\n",
       " [       7       3       0       3       9       8       0      16       2    5901]]  99.193% \t[class: 10]\n",
       " + average row correct: 99.437547922134% \n",
       " + average rowUcol correct (VOC measure): 98.882339000702% \n",
       " + global correct: 99.438333333333%\n",
       "{\n",
       "  valids : FloatTensor - size: 10\n",
       "  mat : LongTensor - size: 10x10\n",
       "  averageUnionValid : 0.98882339000702\n",
       "  _targ_idx : LongTensor - empty\n",
       "  averageValid : 0.99437547922134\n",
       "  classes : \n",
       "    {\n",
       "      1 : 1\n",
       "      2 : 2\n",
       "      3 : 3\n",
       "      4 : 4\n",
       "      5 : 5\n",
       "      6 : 6\n",
       "      7 : 7\n",
       "      8 : 8\n",
       "      9 : 9\n",
       "      10 : 10\n",
       "    }\n",
       "  _prediction : FloatTensor - size: 10\n"
      ]
     },
     "execution_count": 19,
     "metadata": {},
     "output_type": "execute_result"
    },
    {
     "data": {
      "text/plain": [
       "  _pred_idx : LongTensor - size: 1\n",
       "  nclasses : 10\n",
       "  _max : FloatTensor - size: 1\n",
       "  _target : FloatTensor - empty\n",
       "  unionvalids : FloatTensor - size: 10\n",
       "  totalValid : 0.99438333333333\n",
       "}\n"
      ]
     },
     "execution_count": 19,
     "metadata": {},
     "output_type": "execute_result"
    },
    {
     "data": {
      "text/plain": [
       "<trainer> saving network to /home/saurabh/Desktop/COGS 260/Project 2/torch tutorial/Assignment 2/mnist.net\t\n",
       "<trainer> on testing Set:\t\n"
      ]
     },
     "execution_count": 19,
     "metadata": {},
     "output_type": "execute_result"
    },
    {
     "data": {
      "text/plain": [
       "<trainer> time to test 1 sample = 0.23722949028015ms\t\n",
       "ConfusionMatrix:\n",
       "[[     975       0       2       0       0       0       1       1       1       0]   99.490% \t[class: 1]\n",
       " [       0    1131       1       1       0       2       0       0       0       0]   99.648% \t[class: 2]\n",
       " [       2       2    1022       0       1       0       0       5       0       0]   99.031% \t[class: 3]\n",
       " [       0       0       4     999       0       4       0       2       1       0]   98.911% \t[class: 4]\n",
       " [       0       1       0       0     972       0       2       1       1       5]   98.982% \t[class: 5]\n",
       " [       1       0       0       4       0     885       1       1       0       0]   99.215% \t[class: 6]\n",
       " [       8       3       0       1       1       7     937       0       1       0]   97.808% \t[class: 7]\n",
       " [       0       3       3       0       0       0       0    1019       0       3]   99.125% \t[class: 8]\n",
       " [       1       0       2       4       2       3       1       1     955       5]   98.049% \t[class: 9]\n",
       " [       1       0       0       2       2       7       0       3       1     993]]  98.414% \t[class: 10]\n",
       " + average row correct: 98.867219090462% \n",
       " + average rowUcol correct (VOC measure): 97.759881615639% \n",
       " + global correct: 98.88%\n",
       "{\n",
       "  valids : FloatTensor - size: 10\n",
       "  mat : LongTensor - size: 10x10\n",
       "  averageUnionValid : 0.97759881615639\n",
       "  _targ_idx : LongTensor - empty\n",
       "  averageValid : 0.98867219090462\n",
       "  classes : \n",
       "    {\n",
       "      1 : 1\n",
       "      2 : 2\n",
       "      3 : 3\n",
       "      4 : 4\n",
       "      5 : 5\n",
       "      6 : 6\n",
       "      7 : 7\n",
       "      8 : 8\n",
       "      9 : 9\n",
       "     "
      ]
     },
     "execution_count": 19,
     "metadata": {},
     "output_type": "execute_result"
    },
    {
     "data": {
      "text/plain": [
       " 10 : 10\n",
       "    }\n",
       "  _prediction : FloatTensor - size: 10\n",
       "  _pred_idx : LongTensor - size: 1\n",
       "  nclasses : 10\n",
       "  _max : FloatTensor - size: 1\n",
       "  _target : FloatTensor - empty\n",
       "  unionvalids : FloatTensor - size: 10\n",
       "  totalValid : 0.9888\n",
       "}\n"
      ]
     },
     "execution_count": 19,
     "metadata": {},
     "output_type": "execute_result"
    },
    {
     "data": {
      "text/plain": [
       "<trainer> on training set:\t\n",
       "<trainer> online epoch # 11 [batchSize = 100]\t\n"
      ]
     },
     "execution_count": 19,
     "metadata": {},
     "output_type": "execute_result"
    },
    {
     "data": {
      "text/plain": [
       "Progress: 10401 / 60000\t\n"
      ]
     },
     "execution_count": 19,
     "metadata": {},
     "output_type": "execute_result"
    }
   ],
   "source": [
    "while true do\n",
    "   -- train/test\n",
    "   train(trainData)\n",
    "   test(testData)\n",
    "\n",
    "   -- plot errors\n",
    "\n",
    "      trainLogger:style{['% mean class accuracy (train set)'] = '-'}\n",
    "      testLogger:style{['% mean class accuracy (test set)'] = '-'}\n",
    "      trainLogger:plot()\n",
    "      testLogger:plot()\n",
    "end"
   ]
  },
  {
   "cell_type": "code",
   "execution_count": null,
   "metadata": {
    "collapsed": true
   },
   "outputs": [],
   "source": []
  }
 ],
 "metadata": {
  "kernelspec": {
   "display_name": "iTorch",
   "language": "lua",
   "name": "itorch"
  },
  "language_info": {
   "name": "lua",
   "version": "5.1"
  }
 },
 "nbformat": 4,
 "nbformat_minor": 0
}
