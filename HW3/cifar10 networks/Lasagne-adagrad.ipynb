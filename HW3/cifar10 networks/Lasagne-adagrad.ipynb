{
 "cells": [
  {
   "cell_type": "code",
   "execution_count": 1,
   "metadata": {
    "collapsed": false
   },
   "outputs": [
    {
     "name": "stderr",
     "output_type": "stream",
     "text": [
      "Using gpu device 0: GeForce GTX 960M (CNMeM is disabled, CuDNN 4007)\n",
      "/home/saurabh/anaconda2/lib/python2.7/site-packages/theano/tensor/signal/downsample.py:6: UserWarning: downsample module has been moved to the theano.tensor.signal.pool module.\n",
      "  \"downsample module has been moved to the theano.tensor.signal.pool module.\")\n"
     ]
    }
   ],
   "source": [
    "from __future__ import print_function\n",
    "import time\n",
    "import numpy as np\n",
    "import theano\n",
    "import theano.tensor as T\n",
    "import lasagne\n",
    "import cPickle as pickle\n",
    "from cifar10_data import load_cifar10\n",
    "# import lasagne_trainer"
   ]
  },
  {
   "cell_type": "code",
   "execution_count": 4,
   "metadata": {
    "collapsed": false
   },
   "outputs": [
    {
     "name": "stderr",
     "output_type": "stream",
     "text": [
      "/Users/saurabh/anaconda/lib/python2.7/site-packages/pandas/computation/__init__.py:19: UserWarning: The installed version of numexpr 2.4.4 is not supported in pandas and will be not be used\n",
      "\n",
      "  UserWarning)\n"
     ]
    }
   ],
   "source": [
    "# set up plots\n",
    "\n",
    "%matplotlib inline\n",
    "\n",
    "import matplotlib.pyplot as plt\n",
    "import seaborn as sns"
   ]
  },
  {
   "cell_type": "code",
   "execution_count": 3,
   "metadata": {
    "collapsed": false
   },
   "outputs": [
    {
     "name": "stdout",
     "output_type": "stream",
     "text": [
      "Train data shape:  (49000, 3, 32, 32)\n",
      "Train labels shape:  (49000,)\n",
      "Validation data shape:  (1000, 3, 32, 32)\n",
      "Validation labels shape:  (1000,)\n",
      "Test data shape:  (10000, 3, 32, 32)\n",
      "Test labels shape:  (10000,)\n"
     ]
    }
   ],
   "source": [
    "# get data\n",
    "X_train, y_train, X_val, y_val, X_test, y_test = load_cifar10(\"../data/cifar-10-batches-py/\")\n",
    "print('Train data shape: ', X_train.shape)\n",
    "print('Train labels shape: ', y_train.shape)\n",
    "print('Validation data shape: ', X_val.shape)\n",
    "print('Validation labels shape: ', y_val.shape)\n",
    "print('Test data shape: ', X_test.shape)\n",
    "print('Test labels shape: ', y_test.shape)"
   ]
  },
  {
   "cell_type": "code",
   "execution_count": 4,
   "metadata": {
    "collapsed": true
   },
   "outputs": [],
   "source": [
    "X_val = X_test\n",
    "y_val = y_test"
   ]
  },
  {
   "cell_type": "code",
   "execution_count": 14,
   "metadata": {
    "collapsed": true
   },
   "outputs": [],
   "source": [
    "input_var = T.tensor4('inputs')"
   ]
  },
  {
   "cell_type": "code",
   "execution_count": 15,
   "metadata": {
    "collapsed": true
   },
   "outputs": [],
   "source": [
    "def create_v1(input_var, input_shape=(3, 32, 32),\n",
    "              ccp_num_filters=[64, 128], ccp_filter_size=3,\n",
    "              fc_num_units=[128, 128], num_classes=10,\n",
    "              **junk):\n",
    "    # input layer\n",
    "    network = lasagne.layers.InputLayer(shape=(None,) + input_shape,\n",
    "                                        input_var=input_var)\n",
    "    # conv-relu-conv-relu-pool layers\n",
    "    for num_filters in ccp_num_filters:\n",
    "        network = lasagne.layers.Conv2DLayer(\n",
    "            network, num_filters=num_filters,\n",
    "            filter_size=(ccp_filter_size, ccp_filter_size),\n",
    "            pad='same',\n",
    "            nonlinearity=lasagne.nonlinearities.rectify,\n",
    "            W=lasagne.init.GlorotUniform(gain='relu'))\n",
    "        network = lasagne.layers.Conv2DLayer(\n",
    "            network, num_filters=num_filters,\n",
    "            filter_size=(ccp_filter_size, ccp_filter_size),\n",
    "            pad='same',\n",
    "            nonlinearity=lasagne.nonlinearities.rectify,\n",
    "            W=lasagne.init.GlorotUniform(gain='relu'))\n",
    "        network = lasagne.layers.MaxPool2DLayer(network, pool_size=(2, 2))\n",
    "    # fc-relu\n",
    "    for num_units in fc_num_units:\n",
    "        network = lasagne.layers.DenseLayer(\n",
    "            lasagne.layers.dropout(network, p=.5),\n",
    "            num_units=num_units,\n",
    "            nonlinearity=lasagne.nonlinearities.rectify,\n",
    "            W=lasagne.init.GlorotUniform(gain='relu'))\n",
    "    # output layer\n",
    "    network = lasagne.layers.DenseLayer(\n",
    "        lasagne.layers.dropout(network, p=.5),\n",
    "        num_units=num_classes,\n",
    "        nonlinearity=lasagne.nonlinearities.softmax)\n",
    "    return network"
   ]
  },
  {
   "cell_type": "code",
   "execution_count": 16,
   "metadata": {
    "collapsed": true
   },
   "outputs": [],
   "source": [
    "param = dict(ccp_num_filters=[64, 128], \n",
    "             ccp_filter_size=3,\n",
    "             fc_num_units=[256, 256],\n",
    "             num_classes=10)"
   ]
  },
  {
   "cell_type": "code",
   "execution_count": 20,
   "metadata": {
    "collapsed": true
   },
   "outputs": [],
   "source": [
    "network = create_v1(input_var, **param)"
   ]
  },
  {
   "cell_type": "code",
   "execution_count": 21,
   "metadata": {
    "collapsed": true
   },
   "outputs": [],
   "source": [
    "def gen_minibatches(X, y, batch_size, shuffle=False):\n",
    "    assert len(X) == len(y), \"Training data sizes don't match\"\n",
    "    if shuffle:\n",
    "        ids = np.random.permutation(len(X))\n",
    "    else:\n",
    "        ids = np.arange(len(X))\n",
    "    for start_idx in range(0, len(X) - batch_size + 1, batch_size):\n",
    "        ii = ids[start_idx:start_idx + batch_size]\n",
    "        yield X[ii], y[ii]"
   ]
  },
  {
   "cell_type": "code",
   "execution_count": 22,
   "metadata": {
    "collapsed": false
   },
   "outputs": [
    {
     "name": "stdout",
     "output_type": "stream",
     "text": [
      "Compiling...\n",
      "Training...\n",
      "epoch 1 / 25 in 142.7s: loss 1.918315, train: 0.513, val 0.506, lr 1.000000e+00 test_loss 1.355012e+00\n",
      "epoch 2 / 25 in 142.7s: loss 1.374881, train: 0.618, val 0.594, lr 1.000000e+00 test_loss 1.137217e+00\n",
      "epoch 3 / 25 in 142.7s: loss 1.187211, train: 0.668, val 0.647, lr 1.000000e+00 test_loss 1.007537e+00\n",
      "epoch 4 / 25 in 141.3s: loss 1.064630, train: 0.712, val 0.688, lr 1.000000e+00 test_loss 8.982949e-01\n",
      "epoch 5 / 25 in 138.1s: loss 0.976648, train: 0.740, val 0.709, lr 1.000000e+00 test_loss 8.320429e-01\n",
      "epoch 6 / 25 in 142.2s: loss 0.902045, train: 0.768, val 0.725, lr 1.000000e+00 test_loss 8.004160e-01\n",
      "epoch 7 / 25 in 143.5s: loss 0.849720, train: 0.779, val 0.728, lr 1.000000e+00 test_loss 7.766256e-01\n",
      "epoch 8 / 25 in 195.7s: loss 0.800804, train: 0.804, val 0.752, lr 1.000000e+00 test_loss 7.305999e-01\n",
      "epoch 9 / 25 in 227.0s: loss 0.761225, train: 0.813, val 0.751, lr 1.000000e+00 test_loss 7.305280e-01\n",
      "epoch 10 / 25 in 225.5s: loss 0.724262, train: 0.822, val 0.760, lr 1.000000e+00 test_loss 7.007490e-01\n",
      "epoch 11 / 25 in 230.0s: loss 0.691409, train: 0.832, val 0.761, lr 1.000000e+00 test_loss 7.008702e-01\n",
      "epoch 12 / 25 in 153.2s: loss 0.656783, train: 0.852, val 0.772, lr 1.000000e+00 test_loss 6.791198e-01\n",
      "epoch 13 / 25 in 207.9s: loss 0.635505, train: 0.866, val 0.781, lr 1.000000e+00 test_loss 6.485035e-01\n",
      "epoch 14 / 25 in 228.4s: loss 0.606395, train: 0.869, val 0.778, lr 1.000000e+00 test_loss 6.482311e-01\n",
      "epoch 15 / 25 in 229.8s: loss 0.579014, train: 0.881, val 0.786, lr 1.000000e+00 test_loss 6.294840e-01\n",
      "epoch 16 / 25 in 229.2s: loss 0.558652, train: 0.891, val 0.790, lr 1.000000e+00 test_loss 6.233590e-01\n",
      "epoch 17 / 25 in 220.9s: loss 0.535786, train: 0.899, val 0.791, lr 1.000000e+00 test_loss 6.137135e-01\n",
      "epoch 18 / 25 in 228.5s: loss 0.521200, train: 0.901, val 0.794, lr 1.000000e+00 test_loss 6.154913e-01\n",
      "epoch 19 / 25 in 228.2s: loss 0.502597, train: 0.910, val 0.792, lr 1.000000e+00 test_loss 6.106227e-01\n",
      "epoch 20 / 25 in 227.1s: loss 0.482212, train: 0.915, val 0.791, lr 1.000000e+00 test_loss 6.153910e-01\n",
      "epoch 21 / 25 in 224.8s: loss 0.469759, train: 0.920, val 0.796, lr 1.000000e+00 test_loss 6.084288e-01\n",
      "epoch 22 / 25 in 229.2s: loss 0.455398, train: 0.928, val 0.802, lr 1.000000e+00 test_loss 6.010406e-01\n",
      "epoch 23 / 25 in 229.4s: loss 0.437130, train: 0.931, val 0.805, lr 1.000000e+00 test_loss 5.935571e-01\n",
      "epoch 24 / 25 in 170.4s: loss 0.421473, train: 0.936, val 0.806, lr 1.000000e+00 test_loss 5.950802e-01\n",
      "epoch 25 / 25 in 161.4s: loss 0.413039, train: 0.941, val 0.804, lr 1.000000e+00 test_loss 5.949434e-01\n"
     ]
    }
   ],
   "source": [
    "# Training params\n",
    "learning_rate = 1\n",
    "learning_rate_decay=1\n",
    "decay_after_epochs=10\n",
    "\n",
    "momentum=0.9\n",
    "momentum_decay=0.5 \n",
    "\n",
    "regu=0.0\n",
    "batch_size=128 \n",
    "num_epochs=25\n",
    "save_path=None\n",
    "\n",
    "\n",
    "print(\"Compiling...\")\n",
    "\n",
    "# Training Prediction\n",
    "target_var = T.ivector('target')\n",
    "prediction = lasagne.layers.get_output(network)\n",
    "loss = lasagne.objectives.categorical_crossentropy(prediction, target_var)\n",
    "loss = loss.mean()\n",
    "# regu_loss = lasagne.regularization.regularize_network_params(\n",
    "#     network, lasagne.regularization.l2)\n",
    "# loss = loss + regu * regu_loss\n",
    "train_acc = T.mean(T.eq(T.argmax(prediction, axis=1), target_var),\n",
    "                   dtype=theano.config.floatX)\n",
    "learning_rate_var = theano.shared(np.float32(learning_rate))\n",
    "# momentum_var = theano.shared(np.float32(momentum))\n",
    "params = lasagne.layers.get_all_params(network, trainable=True)\n",
    "\n",
    "updates = lasagne.updates.adagrad(\n",
    "    loss, params, learning_rate=.01)\n",
    "\n",
    "# Test prediction\n",
    "test_prediction = lasagne.layers.get_output(network, deterministic=True)\n",
    "test_loss = lasagne.objectives.categorical_crossentropy(test_prediction,\n",
    "                                                        target_var)\n",
    "test_loss = test_loss.mean()\n",
    "test_acc = T.mean(T.eq(T.argmax(test_prediction, axis=1), target_var),\n",
    "                  dtype=theano.config.floatX)\n",
    "\n",
    "train_fn = theano.function([input_var, target_var], loss, updates=updates)\n",
    "train_acc_fn = theano.function([input_var, target_var], train_acc)\n",
    "val_fn = theano.function([input_var, target_var], [test_loss, test_acc])\n",
    "\n",
    "### All compilation done \n",
    "\n",
    "print(\"Training...\")\n",
    "best_val_acc = 0.0\n",
    "best_model = None\n",
    "loss_history = []\n",
    "loss_test_history = []\n",
    "train_acc_history = []\n",
    "val_acc_history = []\n",
    "for epoch in range(num_epochs):\n",
    "    # train model for one pass\n",
    "    train_err = train_batches = 0\n",
    "    start_time = time.time()\n",
    "    for X_batch, y_batch in gen_minibatches(X_train, y_train,\n",
    "                                            batch_size, shuffle=True):\n",
    "        err = train_fn(X_batch, y_batch)\n",
    "        train_err += err\n",
    "        train_batches += 1\n",
    "        loss_history.append(err)\n",
    "        \n",
    "    # training accuracy\n",
    "    n_acc = len(y_val)\n",
    "    trval_err = trval_acc = trval_batches = 0\n",
    "    for X_batch, y_batch in gen_minibatches(X_train[:n_acc], y_train[:n_acc],\n",
    "                                            batch_size, shuffle=False):\n",
    "        err, acc = val_fn(X_batch, y_batch)\n",
    "        trval_err += err\n",
    "        trval_acc += acc\n",
    "        trval_batches += 1\n",
    "    trval_acc /= trval_batches\n",
    "    train_acc_history.append(trval_acc)\n",
    "    \n",
    "    # validation accuracy\n",
    "    val_err = val_acc = val_batches = 0\n",
    "    for X_batch, y_batch in gen_minibatches(X_val, y_val,\n",
    "                                            batch_size, shuffle=False):\n",
    "        err, acc = val_fn(X_batch, y_batch)\n",
    "        val_err += err\n",
    "        val_acc += acc\n",
    "        val_batches += 1\n",
    "        loss_test_history.append(err)\n",
    "    val_acc /= val_batches\n",
    "    val_acc_history.append(val_acc)\n",
    "    \n",
    "    \n",
    "    print('epoch %d / %d in %.1fs: loss %f, train: %.3f, val %.3f, lr %e test_loss %e'\n",
    "          % (epoch + 1, num_epochs, time.time() - start_time,\n",
    "             train_err / train_batches, trval_acc, val_acc,\n",
    "             learning_rate_var.get_value(), val_err/val_batches))\n",
    "    \n",
    "    # decay learning rate\n",
    "    if (epoch + 1) % decay_after_epochs == 0:\n",
    "        learning_rate_var.set_value(\n",
    "            np.float32(learning_rate_var.get_value() * learning_rate_decay))\n",
    "#         momentum = (1.0 - (1.0 - momentum_var.get_value()) * momentum_decay) \\\n",
    "#                    .clip(max=0.9999)\n",
    "#         momentum_var.set_value(np.float32(momentum))\n"
   ]
  },
  {
   "cell_type": "code",
   "execution_count": 23,
   "metadata": {
    "collapsed": false
   },
   "outputs": [
    {
     "data": {
      "text/plain": [
       "<matplotlib.legend.Legend at 0x7f0acbb95890>"
      ]
     },
     "execution_count": 23,
     "metadata": {},
     "output_type": "execute_result"
    },
    {
     "data": {
      "image/png": "[encoded data removed]",
      "text/plain": [
       "<matplotlib.figure.Figure at 0x7f0ac7449d90>"
      ]
     },
     "metadata": {},
     "output_type": "display_data"
    }
   ],
   "source": [
    "x = xrange(0,len(val_acc_history))\n",
    "sigmoid_train = train_acc_history\n",
    "sigmoid_test = val_acc_history\n",
    "# sns.plt.ylim([91,100])\n",
    "sns.plt.xlabel(\"Epochs\")\n",
    "sns.plt.ylabel(\"Train/Test accuracy\")\n",
    "sns.plt.plot(x, sigmoid_train,  label = \"Train accuracy\" )\n",
    "sns.plt.plot(x, sigmoid_test,  label = \"Test accuracy\" )\n",
    "sns.plt.title(\"Adagrad accuracy\")\n",
    "sns.plt.legend(loc='upper left')"
   ]
  },
  {
   "cell_type": "code",
   "execution_count": 2,
   "metadata": {
    "collapsed": true
   },
   "outputs": [],
   "source": [
    "loss_test = [1.355012e+00,1.137217e+00,1.007537e+00,8.982949e-01,8.320429e-01,8.004160e-01,7.766256e-01,7.305999e-01,7.305280e-01,7.007490e-01,7.008702e-01,6.791198e-01,6.485035e-01,6.482311e-01,6.294840e-01,6.233590e-01,6.137135e-01,6.154913e-01,6.106227e-01,6.153910e-01,6.084288e-01,6.010406e-01,5.935571e-01,5.950802e-01,5.949434e-01]\n",
    "\n",
    "loss_train = [1.918315,1.374881,1.187211,1.064630,0.976648,0.902045,0.849720,0.800804,0.761225,0.724262,0.691409,0.656783,0.635505,0.606395,0.579014,0.558652,0.535786,0.521200,0.502597,0.482212,0.469759,0.455398,0.437130,0.421473,0.413039]"
   ]
  },
  {
   "cell_type": "code",
   "execution_count": 5,
   "metadata": {
    "collapsed": false
   },
   "outputs": [
    {
     "data": {
      "text/plain": [
       "<matplotlib.legend.Legend at 0x108e6dad0>"
      ]
     },
     "execution_count": 5,
     "metadata": {},
     "output_type": "execute_result"
    },
    {
     "data": {
      "image/png": "[encoded data removed]",
      "text/plain": [
       "<matplotlib.figure.Figure at 0x104084310>"
      ]
     },
     "metadata": {},
     "output_type": "display_data"
    }
   ],
   "source": [
    "x = xrange(0,len(loss_train))\n",
    "sigmoid_train = loss_train\n",
    "sigmoid_test = loss_test\n",
    "# sns.plt.ylim([91,100])\n",
    "sns.plt.xlabel(\"Epochs\")\n",
    "sns.plt.ylabel(\"Train/Test loss\")\n",
    "sns.plt.plot(x, sigmoid_train,  label = \"Train loss\" )\n",
    "sns.plt.plot(x, sigmoid_test,  label = \"Test loss\" )\n",
    "sns.plt.title(\"Adagrad loss\")\n",
    "sns.plt.legend(loc='upper left')"
   ]
  },
  {
   "cell_type": "code",
   "execution_count": null,
   "metadata": {
    "collapsed": true
   },
   "outputs": [],
   "source": []
  }
 ],
 "metadata": {
  "kernelspec": {
   "display_name": "Python 2",
   "language": "python",
   "name": "python2"
  },
  "language_info": {
   "codemirror_mode": {
    "name": "ipython",
    "version": 2
   },
   "file_extension": ".py",
   "mimetype": "text/x-python",
   "name": "python",
   "nbconvert_exporter": "python",
   "pygments_lexer": "ipython2",
   "version": "2.7.11"
  }
 },
 "nbformat": 4,
 "nbformat_minor": 0
}
